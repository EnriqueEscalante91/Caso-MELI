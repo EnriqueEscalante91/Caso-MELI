{
 "cells": [
  {
   "cell_type": "markdown",
   "id": "b50ccf24",
   "metadata": {},
   "source": [
    "# Objetivo de la prueba\n",
    "\n",
    "En este caso, se quiere pronosticar la demanda de un producto para una semana\n",
    "determinada, en una tienda especial. El conjunto de datos que recibe consta de 8 semanas\n",
    "de transacciones de ventas en México.\n",
    "\n",
    "Cada semana, hay camiones de reparto que entregan productos a los vendedores. Cada\n",
    "transacción consiste en ventas y devoluciones. Las devoluciones son los productos que no\n",
    "se han vendido y caducado.\n",
    "\n",
    "La demanda de un producto en una semana determinada se define como las ventas de esta\n",
    "semana restado por el retorno de la próxima semana.\n",
    "\n",
    "## Requisitos\n",
    "\n",
    "● Intentar desarrollar la prueba en Python / R / SQL, o el programa que se\n",
    "le facilite.\n",
    "\n",
    "● Comparte el documento con las respuestas, incluye una breve explicación\n",
    "de tus resultados.\n",
    "\n",
    "● Comparta su código para revisarlo en detalle."
   ]
  },
  {
   "cell_type": "markdown",
   "id": "5a776b03",
   "metadata": {},
   "source": [
    "# Limpiar tabla de clientes\n",
    "Hay Cliente_ID duplicados en cliente_tabla, lo que significa un Cliente_ID. Puede\n",
    "tener múltiples NombreCliente que son muy similares. \n",
    "\n",
    "Esto se debe al NombreCliente ser ruidoso y no estandarizado en los datos sin procesar, por lo\n",
    "que depende de usted decidir cómo limpiar y utilizar esta información."
   ]
  },
  {
   "cell_type": "code",
   "execution_count": null,
   "id": "674344d5",
   "metadata": {},
   "outputs": [],
   "source": [
    "# Importar libreria para leer dataset\n",
    "import pandas as pd"
   ]
  },
  {
   "cell_type": "code",
   "execution_count": null,
   "id": "5c1f2098",
   "metadata": {
    "scrolled": false
   },
   "outputs": [],
   "source": [
    "# cargar dataset de cliente mediante url de repositorio publico en github\n",
    "df_duplicate = pd.read_csv(\"https://media.githubusercontent.com/media/EnriqueEscalante91/Caso-MELI/master/cliente_tabla.csv\")\n",
    "df_duplicate.shape"
   ]
  },
  {
   "cell_type": "code",
   "execution_count": null,
   "id": "3e1978a0",
   "metadata": {
    "scrolled": false
   },
   "outputs": [],
   "source": [
    "# Mostrar los primeros registros del DataFrame\n",
    "print(df_duplicate.head(3)) "
   ]
  },
  {
   "cell_type": "code",
   "execution_count": null,
   "id": "f47a049d",
   "metadata": {
    "scrolled": false
   },
   "outputs": [],
   "source": [
    "#Validar si existen registros duplicados\n",
    "duplicates = df_duplicate[df_duplicate.duplicated('Cliente_ID')]\n",
    "# Mostrar los registros duplicados\n",
    "print(\"Registros duplicados:\")\n",
    "print(df_duplicate)"
   ]
  },
  {
   "cell_type": "code",
   "execution_count": null,
   "id": "2f9d4871",
   "metadata": {},
   "outputs": [],
   "source": [
    "# Eliminar los registros duplicados en la columna 'Cliente_ID'\n",
    "df_cleaned = df_duplicate.drop_duplicates(subset='Cliente_ID', keep='first', inplace=True)"
   ]
  },
  {
   "cell_type": "code",
   "execution_count": null,
   "id": "6892fb8d",
   "metadata": {},
   "outputs": [],
   "source": [
    "# Mostrar el DataFrame resultante\n",
    "print(\"DataFrame sin duplicados:\")\n",
    "print(df_cleaned)"
   ]
  },
  {
   "cell_type": "code",
   "execution_count": null,
   "id": "85acae50",
   "metadata": {},
   "outputs": [],
   "source": [
    "# Guardar el DataFrame limpio en un nuevo archivo CSV\n",
    "#csv_filename = \"cliente_tabla_sin_duplicados.csv\"\n",
    "#df.to_csv(csv_filename, index=False)"
   ]
  },
  {
   "cell_type": "markdown",
   "id": "887a59fd",
   "metadata": {},
   "source": [
    "# Entregables\n",
    "\n",
    "1. Justifica la elección del algoritmo que utilizaste.\n",
    "\n",
    "2. Graficar una serie de tiempo para una determinada combinación producto-cliente-agencia.\n",
    "\n",
    "3. Agregue varias métricas de su elección para mostrar la solidez del algoritmo.\n",
    "\n",
    "4. Definir una muestra de clientes que represente a una agencia específica\n",
    "(Especifique cuál agencia y cuáles fueron sus criterios de selección y metodología\n",
    "aplicada).\n",
    "\n",
    "5. Prediga la semana 9 para los 3 productos más vendidos en la muestra de su cliente.\n",
    "\n",
    "6. Haz un dibujo de diagrama de flujo que mapee todos los pasos de tu algoritmo usado."
   ]
  },
  {
   "cell_type": "code",
   "execution_count": 2,
   "id": "13e2b2aa",
   "metadata": {},
   "outputs": [],
   "source": [
    "# Importar libreria pandas en caso de no haber ejecutado antes\n",
    "import pandas as pd\n",
    "# Importar Tensorflow para nuestro modelo de machine learning\n",
    "from tensorflow.keras.models import Sequential\n",
    "from tensorflow.keras.layers import LSTM, Dense\n",
    "#impoertar libreria para conectar con base de datos SQL server\n",
    "from sqlalchemy import create_engine"
   ]
  },
  {
   "cell_type": "markdown",
   "id": "42b364a2",
   "metadata": {},
   "source": [
    "# Entregable 1\n",
    "El uso del algoritmo LSTM (Long Short-Term Memory) en un modelo construido con TensorFlow y Keras puede ser justificado por sus capacidades para tratar con secuencias de datos, como series temporales, y capturar patrones a largo plazo en los datos. Aquí hay algunas razones para considerar el uso de un modelo LSTM:\n",
    "\n",
    "Captura de Dependencias Temporales: En problemas de pronóstico de series temporales, las dependencias temporales son cruciales. Las capas LSTM están diseñadas para capturar y recordar patrones de dependencia a lo largo del tiempo, lo que las hace ideales para problemas donde la relación entre las observaciones en diferentes momentos es esencial para hacer predicciones precisas.\n",
    "\n",
    "Manejo de Secuencias: Las series temporales y otros tipos de datos secuenciales presentan desafíos únicos en el modelado. Las capas LSTM pueden manejar secuencias de longitud variable y aprender relaciones complejas entre las diferentes entradas en diferentes pasos de tiempo.\n",
    "\n",
    "Memoria a Largo Plazo: A diferencia de las redes neuronales feedforward tradicionales, las LSTM tienen unidades de memoria que les permiten retener información importante a lo largo de la secuencia. Esto permite capturar patrones a largo plazo en los datos, lo que puede ser fundamental para pronósticos precisos en series temporales.\n",
    "\n",
    "Resistencia al Desvanecimiento del Gradiente: Las capas LSTM están diseñadas para mitigar el problema del desvanecimiento del gradiente en redes neuronales profundas. Esto significa que son más efectivas para entrenar en redes profundas con muchas capas, lo que puede ser útil para capturar relaciones complejas en los datos.\n",
    "\n",
    "Flexibilidad: Las capas LSTM pueden configurarse con diferentes hiperparámetros, como la cantidad de unidades LSTM en cada capa, el número de capas LSTM, la función de activación y más. Esto permite ajustar el modelo a las características específicas de tus datos y problema.\n",
    "\n",
    "Pronóstico: Dado que estás interesado en pronosticar la demanda futura basada en datos históricos, un modelo LSTM puede ser particularmente útil, ya que puede capturar patrones y tendencias en las series temporales, permitiéndote hacer predicciones precisas.\n",
    "\n",
    "La combinación de capas LSTM y otras capas, como capas densas (Dense), en un modelo Sequential de Keras te brinda flexibilidad para diseñar y ajustar el modelo según las necesidades de tu conjunto de datos y el problema específico que estás abordando. En resumen, el uso de capas LSTM en un modelo Keras es adecuado para problemas que involucran secuencias temporales y relaciones a largo plazo entre los datos.\n",
    "\n",
    "El uso de LSTM (Long Short-Term Memory) en TensorFlow y Keras es justificado para pronósticos de series temporales debido a su capacidad para capturar patrones a largo plazo y dependencias temporales. Las capas LSTM manejan secuencias variables, conservan información crucial a lo largo del tiempo y evitan problemas de desvanecimiento del gradiente. Ofrecen flexibilidad para configurar hiperparámetros y se integran en modelos Sequential. Estas características los hacen adecuados para capturar relaciones complejas en datos secuenciales y facilitan el pronóstico preciso en problemas de series temporales como la predicción de la demanda basada en datos históricos."
   ]
  },
  {
   "cell_type": "code",
   "execution_count": 3,
   "id": "77f81675",
   "metadata": {},
   "outputs": [],
   "source": [
    "# Configuración de la conexión a la base de datos SQL Server\n",
    "server = 'SCALANTECH\\SQLEXPRESS'\n",
    "database = 'caso_negocio_meli'\n",
    "username = 'sa'\n",
    "password = '123'\n",
    "\n",
    "# Cadena de conexión\n",
    "conn_str = f'mssql+pyodbc://{username}:{password}@{server}/{database}?driver=SQL+Server'"
   ]
  },
  {
   "cell_type": "code",
   "execution_count": 4,
   "id": "0f02f355",
   "metadata": {},
   "outputs": [],
   "source": [
    "#Realizar consulta SQL y JOINs para consolidar el dataframe de entrenamiento\n",
    "query_train = '''\n",
    "SELECT\n",
    "     v.Semana,\n",
    "     v.Agencia_ID,\n",
    "     e.Ciudad,\n",
    "     e.Estado,\n",
    "     c.Cliente_ID,\n",
    "     c.NombreCliente,\n",
    "     p.Producto_ID,\n",
    "     p.NombreProducto,\n",
    "     v.Venta_uni_hoy,\n",
    "     v.Demanda_uni_equil\n",
    "FROM ventas v\n",
    "   INNER JOIN cliente_tabla c ON v.Cliente_ID = c.Cliente_ID\n",
    "   INNER JOIN producto_tabla p ON v.Producto_ID = p.Producto_ID\n",
    "   INNER JOIN estados_state e ON v.Agencia_ID = e.Agencia_ID;\n",
    "'''\n",
    "\n",
    "# Crear una conexión SQLAlchemy\n",
    "engine = create_engine(conn_str)\n",
    "\n",
    "# Ejecutar la consulta y cargar los resultados en un DataFrame\n",
    "df_train = pd.read_sql(query_train, engine)\n"
   ]
  },
  {
   "cell_type": "code",
   "execution_count": 5,
   "id": "d9d93195",
   "metadata": {
    "scrolled": true
   },
   "outputs": [
    {
     "data": {
      "text/html": [
       "<div>\n",
       "<style scoped>\n",
       "    .dataframe tbody tr th:only-of-type {\n",
       "        vertical-align: middle;\n",
       "    }\n",
       "\n",
       "    .dataframe tbody tr th {\n",
       "        vertical-align: top;\n",
       "    }\n",
       "\n",
       "    .dataframe thead th {\n",
       "        text-align: right;\n",
       "    }\n",
       "</style>\n",
       "<table border=\"1\" class=\"dataframe\">\n",
       "  <thead>\n",
       "    <tr style=\"text-align: right;\">\n",
       "      <th></th>\n",
       "      <th>Semana</th>\n",
       "      <th>Agencia_ID</th>\n",
       "      <th>Cliente_ID</th>\n",
       "      <th>Producto_ID</th>\n",
       "      <th>Venta_uni_hoy</th>\n",
       "      <th>Demanda_uni_equil</th>\n",
       "    </tr>\n",
       "  </thead>\n",
       "  <tbody>\n",
       "    <tr>\n",
       "      <th>count</th>\n",
       "      <td>7.974418e+06</td>\n",
       "      <td>7.974418e+06</td>\n",
       "      <td>7.974418e+06</td>\n",
       "      <td>7.974418e+06</td>\n",
       "      <td>7.974418e+06</td>\n",
       "      <td>7.974418e+06</td>\n",
       "    </tr>\n",
       "    <tr>\n",
       "      <th>mean</th>\n",
       "      <td>5.446631e+00</td>\n",
       "      <td>1.126474e+03</td>\n",
       "      <td>1.426347e+06</td>\n",
       "      <td>1.499695e+04</td>\n",
       "      <td>7.534587e+00</td>\n",
       "      <td>7.460012e+00</td>\n",
       "    </tr>\n",
       "    <tr>\n",
       "      <th>std</th>\n",
       "      <td>1.735310e+00</td>\n",
       "      <td>1.243164e+01</td>\n",
       "      <td>1.522097e+06</td>\n",
       "      <td>1.769279e+04</td>\n",
       "      <td>2.206313e+01</td>\n",
       "      <td>2.190748e+01</td>\n",
       "    </tr>\n",
       "    <tr>\n",
       "      <th>min</th>\n",
       "      <td>3.000000e+00</td>\n",
       "      <td>1.110000e+03</td>\n",
       "      <td>3.967000e+03</td>\n",
       "      <td>5.300000e+01</td>\n",
       "      <td>0.000000e+00</td>\n",
       "      <td>0.000000e+00</td>\n",
       "    </tr>\n",
       "    <tr>\n",
       "      <th>25%</th>\n",
       "      <td>4.000000e+00</td>\n",
       "      <td>1.118000e+03</td>\n",
       "      <td>3.242880e+05</td>\n",
       "      <td>1.220000e+03</td>\n",
       "      <td>2.000000e+00</td>\n",
       "      <td>2.000000e+00</td>\n",
       "    </tr>\n",
       "    <tr>\n",
       "      <th>50%</th>\n",
       "      <td>5.000000e+00</td>\n",
       "      <td>1.123000e+03</td>\n",
       "      <td>8.711310e+05</td>\n",
       "      <td>2.233000e+03</td>\n",
       "      <td>4.000000e+00</td>\n",
       "      <td>4.000000e+00</td>\n",
       "    </tr>\n",
       "    <tr>\n",
       "      <th>75%</th>\n",
       "      <td>7.000000e+00</td>\n",
       "      <td>1.130000e+03</td>\n",
       "      <td>2.104284e+06</td>\n",
       "      <td>3.421200e+04</td>\n",
       "      <td>7.000000e+00</td>\n",
       "      <td>7.000000e+00</td>\n",
       "    </tr>\n",
       "    <tr>\n",
       "      <th>max</th>\n",
       "      <td>8.000000e+00</td>\n",
       "      <td>1.173000e+03</td>\n",
       "      <td>1.000000e+08</td>\n",
       "      <td>4.999400e+04</td>\n",
       "      <td>4.800000e+03</td>\n",
       "      <td>4.732000e+03</td>\n",
       "    </tr>\n",
       "  </tbody>\n",
       "</table>\n",
       "</div>"
      ],
      "text/plain": [
       "             Semana    Agencia_ID    Cliente_ID   Producto_ID  Venta_uni_hoy  \\\n",
       "count  7.974418e+06  7.974418e+06  7.974418e+06  7.974418e+06   7.974418e+06   \n",
       "mean   5.446631e+00  1.126474e+03  1.426347e+06  1.499695e+04   7.534587e+00   \n",
       "std    1.735310e+00  1.243164e+01  1.522097e+06  1.769279e+04   2.206313e+01   \n",
       "min    3.000000e+00  1.110000e+03  3.967000e+03  5.300000e+01   0.000000e+00   \n",
       "25%    4.000000e+00  1.118000e+03  3.242880e+05  1.220000e+03   2.000000e+00   \n",
       "50%    5.000000e+00  1.123000e+03  8.711310e+05  2.233000e+03   4.000000e+00   \n",
       "75%    7.000000e+00  1.130000e+03  2.104284e+06  3.421200e+04   7.000000e+00   \n",
       "max    8.000000e+00  1.173000e+03  1.000000e+08  4.999400e+04   4.800000e+03   \n",
       "\n",
       "       Demanda_uni_equil  \n",
       "count       7.974418e+06  \n",
       "mean        7.460012e+00  \n",
       "std         2.190748e+01  \n",
       "min         0.000000e+00  \n",
       "25%         2.000000e+00  \n",
       "50%         4.000000e+00  \n",
       "75%         7.000000e+00  \n",
       "max         4.732000e+03  "
      ]
     },
     "execution_count": 5,
     "metadata": {},
     "output_type": "execute_result"
    }
   ],
   "source": [
    "df_train.describe()"
   ]
  },
  {
   "cell_type": "code",
   "execution_count": 6,
   "id": "66ffb044",
   "metadata": {
    "scrolled": true
   },
   "outputs": [
    {
     "name": "stdout",
     "output_type": "stream",
     "text": [
      "<class 'pandas.core.frame.DataFrame'>\n",
      "RangeIndex: 7974418 entries, 0 to 7974417\n",
      "Data columns (total 10 columns):\n",
      " #   Column             Dtype \n",
      "---  ------             ----- \n",
      " 0   Semana             int64 \n",
      " 1   Agencia_ID         int64 \n",
      " 2   Ciudad             object\n",
      " 3   Estado             object\n",
      " 4   Cliente_ID         int64 \n",
      " 5   NombreCliente      object\n",
      " 6   Producto_ID        int64 \n",
      " 7   NombreProducto     object\n",
      " 8   Venta_uni_hoy      int64 \n",
      " 9   Demanda_uni_equil  int64 \n",
      "dtypes: int64(6), object(4)\n",
      "memory usage: 608.4+ MB\n"
     ]
    }
   ],
   "source": [
    "df_train.info()"
   ]
  },
  {
   "cell_type": "markdown",
   "id": "bf976efb",
   "metadata": {},
   "source": [
    "# Entregable 2\n",
    "Graficar una serie de tiempo para una determinada combinación\n",
    "producto-cliente-agencia."
   ]
  },
  {
   "cell_type": "code",
   "execution_count": 13,
   "id": "d46ca12b",
   "metadata": {
    "scrolled": true
   },
   "outputs": [],
   "source": [
    "#importar librerias para gráficar\n",
    "import pandas as pd\n",
    "import matplotlib.pyplot as plt\n",
    "import ipywidgets as widgets\n",
    "from IPython.display import display"
   ]
  },
  {
   "cell_type": "code",
   "execution_count": null,
   "id": "d4355866",
   "metadata": {},
   "outputs": [],
   "source": [
    "# Obtener listas únicas de valores para producto, cliente y agencia\n",
    "unique_productos = df_train['Producto_ID'].unique()\n",
    "unique_clientes = df_train['Cliente_ID'].unique()\n",
    "unique_agencias = df_train['Agencia_ID'].unique()\n",
    "\n",
    "# Crear widgets interactivos para seleccionar los valores\n",
    "producto_dropdown = widgets.Dropdown(options=unique_productos, description='Producto:')\n",
    "cliente_dropdown = widgets.Dropdown(options=unique_clientes, description='Cliente:')\n",
    "agencia_dropdown = widgets.Dropdown(options=unique_agencias, description='Agencia:')\n",
    "\n",
    "# Función para actualizar y mostrar el gráfico\n",
    "def update_time_series(change):\n",
    "    producto_id = producto_dropdown.value\n",
    "    cliente_id = cliente_dropdown.value\n",
    "    agencia_id = agencia_dropdown.value\n",
    "    \n",
    "    filtered_df = df_train[(df_train['Producto_ID'] == producto_id) &\n",
    "                           (df_train['Cliente_ID'] == cliente_id) &\n",
    "                           (df_train['Agencia_ID'] == agencia_id)]\n",
    "    \n",
    "    plt.figure(figsize=(10, 6))\n",
    "    plt.plot(filtered_df['Semana'], filtered_df['Demanda_uni_equil'])\n",
    "    plt.title(f'Serie de Tiempo para Producto {producto_id}, Cliente {cliente_id}, Agencia {agencia_id}')\n",
    "    plt.xlabel('Semana')\n",
    "    plt.ylabel('Demanda')\n",
    "    plt.xticks(rotation=45)\n",
    "    plt.tight_layout()\n",
    "    plt.show()\n",
    "\n",
    "# Asignar la función de actualización a los widgets\n",
    "producto_dropdown.observe(update_time_series, names='value')\n",
    "cliente_dropdown.observe(update_time_series, names='value')\n",
    "agencia_dropdown.observe(update_time_series, names='value')\n",
    "\n",
    "# Mostrar los widgets\n",
    "display(producto_dropdown, cliente_dropdown, agencia_dropdown)\n"
   ]
  },
  {
   "cell_type": "code",
   "execution_count": null,
   "id": "30f31c4b",
   "metadata": {},
   "outputs": [],
   "source": [
    "#Realizar consulta SQL y JOINs para consolidar el dataframe de prueba\n",
    "query_test = '''\n",
    "SELECT\n",
    "     t.Semana,\n",
    "     t.Agencia_ID,\n",
    "     e.Ciudad,\n",
    "     e.Estado,\n",
    "     t.Canal_ID,\n",
    "     t.Ruta_SAK,\n",
    "     t.Cliente_ID,\n",
    "     c.NombreCliente,\n",
    "     t.Producto_ID,\n",
    "     p.NombreProducto\n",
    "FROM test t\n",
    "   INNER JOIN cliente_tabla c ON t.Cliente_ID = c.Cliente_ID\n",
    "   INNER JOIN producto_tabla p ON t.Producto_ID = p.Producto_ID\n",
    "   INNER JOIN estados_state e ON t.Agencia_ID = e.Agencia_ID\n",
    "'''\n",
    "\n",
    "# Crear una conexión SQLAlchemy\n",
    "engine = create_engine(conn_str)\n",
    "\n",
    "# Ejecutar la consulta y cargar los resultados en un DataFrame\n",
    "df_test = pd.read_sql(query_test, engine)"
   ]
  },
  {
   "cell_type": "code",
   "execution_count": null,
   "id": "fa1eebe1",
   "metadata": {
    "scrolled": false
   },
   "outputs": [],
   "source": [
    "df_test.describe()"
   ]
  },
  {
   "cell_type": "code",
   "execution_count": null,
   "id": "85c29c76",
   "metadata": {},
   "outputs": [],
   "source": []
  },
  {
   "cell_type": "code",
   "execution_count": null,
   "id": "78e317bb",
   "metadata": {},
   "outputs": [],
   "source": []
  },
  {
   "cell_type": "code",
   "execution_count": null,
   "id": "7c944e52",
   "metadata": {},
   "outputs": [],
   "source": []
  }
 ],
 "metadata": {
  "kernelspec": {
   "display_name": "Python 3 (ipykernel)",
   "language": "python",
   "name": "python3"
  },
  "language_info": {
   "codemirror_mode": {
    "name": "ipython",
    "version": 3
   },
   "file_extension": ".py",
   "mimetype": "text/x-python",
   "name": "python",
   "nbconvert_exporter": "python",
   "pygments_lexer": "ipython3",
   "version": "3.9.13"
  }
 },
 "nbformat": 4,
 "nbformat_minor": 5
}
