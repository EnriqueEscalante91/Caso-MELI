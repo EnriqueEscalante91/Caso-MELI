{
 "cells": [
  {
   "cell_type": "markdown",
   "id": "b50ccf24",
   "metadata": {},
   "source": [
    "# Objetivo de la prueba\n",
    "\n",
    "En este caso, se quiere pronosticar la demanda de un producto para una semana\n",
    "determinada, en una tienda especial. El conjunto de datos que recibe consta de 8 semanas\n",
    "de transacciones de ventas en México.\n",
    "\n",
    "Cada semana, hay camiones de reparto que entregan productos a los vendedores. Cada\n",
    "transacción consiste en ventas y devoluciones. Las devoluciones son los productos que no\n",
    "se han vendido y caducado.\n",
    "\n",
    "La demanda de un producto en una semana determinada se define como las ventas de esta\n",
    "semana restado por el retorno de la próxima semana.\n",
    "\n",
    "## Requisitos\n",
    "\n",
    "● Intentar desarrollar la prueba en Python / R / SQL, o el programa que se\n",
    "le facilite.\n",
    "\n",
    "● Comparte el documento con las respuestas, incluye una breve explicación\n",
    "de tus resultados.\n",
    "\n",
    "● Comparta su código para revisarlo en detalle."
   ]
  },
  {
   "cell_type": "markdown",
   "id": "5a776b03",
   "metadata": {},
   "source": [
    "# Limpiar tabla de clientes\n",
    "Hay Cliente_ID duplicados en cliente_tabla, lo que significa un Cliente_ID. Puede\n",
    "tener múltiples NombreCliente que son muy similares. \n",
    "\n",
    "Esto se debe al NombreCliente ser ruidoso y no estandarizado en los datos sin procesar, por lo\n",
    "que depende de usted decidir cómo limpiar y utilizar esta información."
   ]
  },
  {
   "cell_type": "code",
   "execution_count": null,
   "id": "674344d5",
   "metadata": {},
   "outputs": [],
   "source": [
    "# Importar libreria para leer dataset\n",
    "import pandas as pd"
   ]
  },
  {
   "cell_type": "code",
   "execution_count": null,
   "id": "5c1f2098",
   "metadata": {
    "scrolled": false
   },
   "outputs": [],
   "source": [
    "# cargar dataset de cliente mediante url de repositorio publico en github\n",
    "df = pd.read_csv(\"https://media.githubusercontent.com/media/EnriqueEscalante91/Caso-MELI/master/cliente_tabla.csv\")\n",
    "df.shape"
   ]
  },
  {
   "cell_type": "code",
   "execution_count": null,
   "id": "3e1978a0",
   "metadata": {
    "scrolled": true
   },
   "outputs": [],
   "source": [
    "# Mostrar los primeros registros del DataFrame\n",
    "print(df.head()) "
   ]
  },
  {
   "cell_type": "code",
   "execution_count": null,
   "id": "f47a049d",
   "metadata": {
    "scrolled": true
   },
   "outputs": [],
   "source": [
    "#Validar si existen registros duplicados\n",
    "duplicates = df[df.duplicated('Cliente_ID')]"
   ]
  },
  {
   "cell_type": "code",
   "execution_count": null,
   "id": "fa5c9d97",
   "metadata": {},
   "outputs": [],
   "source": [
    "# Mostrar los registros duplicados\n",
    "print(\"Registros duplicados:\")\n",
    "print(duplicates)"
   ]
  },
  {
   "cell_type": "code",
   "execution_count": null,
   "id": "2f9d4871",
   "metadata": {},
   "outputs": [],
   "source": [
    "# Eliminar los registros duplicados en la columna 'Cliente_ID'\n",
    "df_cleaned = df.drop_duplicates(subset='Cliente_ID', keep='first', inplace=True)"
   ]
  },
  {
   "cell_type": "code",
   "execution_count": null,
   "id": "6892fb8d",
   "metadata": {},
   "outputs": [],
   "source": [
    "# Mostrar el DataFrame resultante\n",
    "print(\"DataFrame sin duplicados:\")\n",
    "print(df)"
   ]
  },
  {
   "cell_type": "code",
   "execution_count": null,
   "id": "85acae50",
   "metadata": {},
   "outputs": [],
   "source": [
    "# Guardar el DataFrame limpio en un nuevo archivo CSV\n",
    "csv_filename = \"cliente_tabla_sin_duplicados.csv\"\n",
    "df.to_csv(csv_filename, index=False)"
   ]
  },
  {
   "cell_type": "markdown",
   "id": "887a59fd",
   "metadata": {},
   "source": [
    "# Entregables\n",
    "\n",
    "1. Justifica la elección del algoritmo que utilizaste.\n",
    "\n",
    "2. Graficar una serie de tiempo para una determinada combinación producto-cliente-agencia.\n",
    "\n",
    "3. Agregue varias métricas de su elección para mostrar la solidez del algoritmo.\n",
    "\n",
    "4. Definir una muestra de clientes que represente a una agencia específica\n",
    "(Especifique cuál agencia y cuáles fueron sus criterios de selección y metodología\n",
    "aplicada).\n",
    "\n",
    "5. Prediga la semana 9 para los 3 productos más vendidos en la muestra de su cliente.\n",
    "\n",
    "6. Haz un dibujo de diagrama de flujo que mapee todos los pasos de tu algoritmo usado."
   ]
  },
  {
   "cell_type": "code",
   "execution_count": 11,
   "id": "13e2b2aa",
   "metadata": {},
   "outputs": [],
   "source": [
    "from tensorflow.keras.models import Sequential\n",
    "from tensorflow.keras.layers import LSTM, Dense"
   ]
  },
  {
   "cell_type": "code",
   "execution_count": null,
   "id": "77f81675",
   "metadata": {},
   "outputs": [],
   "source": [
    "# cargar dataset preparado con las uniones de tablas mediante url de repositorio publico en github\n",
    "df_train = pd.read_csv(\"https://media.githubusercontent.com/media/EnriqueEscalante91/Caso-MELI/master/cliente_tabla.csv\")\n",
    "df.shape"
   ]
  },
  {
   "cell_type": "code",
   "execution_count": 9,
   "id": "3f78c287",
   "metadata": {
    "scrolled": true
   },
   "outputs": [
    {
     "ename": "InterfaceError",
     "evalue": "('28000', \"[28000] [Microsoft][ODBC SQL Server Driver][SQL Server]Login failed for user 'sa'. (18456) (SQLDriverConnect); [28000] [Microsoft][ODBC SQL Server Driver][SQL Server]Login failed for user 'sa'. (18456)\")",
     "output_type": "error",
     "traceback": [
      "\u001b[1;31m---------------------------------------------------------------------------\u001b[0m",
      "\u001b[1;31mInterfaceError\u001b[0m                            Traceback (most recent call last)",
      "\u001b[1;32m~\\AppData\\Local\\Temp\\ipykernel_13364\\2584766104.py\u001b[0m in \u001b[0;36m<module>\u001b[1;34m\u001b[0m\n\u001b[0;32m      9\u001b[0m \u001b[1;33m\u001b[0m\u001b[0m\n\u001b[0;32m     10\u001b[0m \u001b[1;31m# Establecer la conexión\u001b[0m\u001b[1;33m\u001b[0m\u001b[1;33m\u001b[0m\u001b[0m\n\u001b[1;32m---> 11\u001b[1;33m \u001b[0mconn\u001b[0m \u001b[1;33m=\u001b[0m \u001b[0mpyodbc\u001b[0m\u001b[1;33m.\u001b[0m\u001b[0mconnect\u001b[0m\u001b[1;33m(\u001b[0m\u001b[0mconn_str\u001b[0m\u001b[1;33m)\u001b[0m\u001b[1;33m\u001b[0m\u001b[1;33m\u001b[0m\u001b[0m\n\u001b[0m",
      "\u001b[1;31mInterfaceError\u001b[0m: ('28000', \"[28000] [Microsoft][ODBC SQL Server Driver][SQL Server]Login failed for user 'sa'. (18456) (SQLDriverConnect); [28000] [Microsoft][ODBC SQL Server Driver][SQL Server]Login failed for user 'sa'. (18456)\")"
     ]
    }
   ],
   "source": [
    "# Configuración de la conexión a la base de datos SQL Server\n",
    "server = 'SCALANTECH\\SQLEXPRESS'\n",
    "database = 'caso_negocio_meli'\n",
    "username = 'sa'\n",
    "password = '1234'\n",
    "\n",
    "# Cadena de conexión\n",
    "conn_str = f'DRIVER={{SQL Server}};SERVER={server};DATABASE={database};UID={username};PWD={password}'\n",
    "\n",
    "# Establecer la conexión\n",
    "conn = pyodbc.connect(conn_str)"
   ]
  },
  {
   "cell_type": "code",
   "execution_count": null,
   "id": "bb601aa4",
   "metadata": {},
   "outputs": [],
   "source": [
    "# Cargar datos desde la base de datos SQL\n",
    "query = \"SELECT Semana, Producto_ID, Demanda_uni_equil FROM ventas\"\n",
    "df = pd.read_sql(query, con=db_connection)"
   ]
  },
  {
   "cell_type": "code",
   "execution_count": null,
   "id": "0f02f355",
   "metadata": {},
   "outputs": [],
   "source": [
    "# Preparar datos para Prophet\n",
    "df.rename(columns={'Semana': 'ds', 'Demanda_uni_equil': 'y'}, inplace=True)"
   ]
  },
  {
   "cell_type": "code",
   "execution_count": null,
   "id": "f1895fca",
   "metadata": {},
   "outputs": [],
   "source": [
    "# Crear y ajustar el modelo de Prophet\n",
    "model = Prophet()\n",
    "model.fit(df)"
   ]
  },
  {
   "cell_type": "code",
   "execution_count": null,
   "id": "85c29c76",
   "metadata": {},
   "outputs": [],
   "source": [
    "# Realizar pronóstico\n",
    "future = model.make_future_dataframe(periods=7)  # Predecir una semana\n",
    "forecast = model.predict(future)"
   ]
  },
  {
   "cell_type": "code",
   "execution_count": null,
   "id": "78e317bb",
   "metadata": {},
   "outputs": [],
   "source": []
  },
  {
   "cell_type": "code",
   "execution_count": null,
   "id": "7c944e52",
   "metadata": {},
   "outputs": [],
   "source": []
  }
 ],
 "metadata": {
  "kernelspec": {
   "display_name": "Python 3 (ipykernel)",
   "language": "python",
   "name": "python3"
  },
  "language_info": {
   "codemirror_mode": {
    "name": "ipython",
    "version": 3
   },
   "file_extension": ".py",
   "mimetype": "text/x-python",
   "name": "python",
   "nbconvert_exporter": "python",
   "pygments_lexer": "ipython3",
   "version": "3.9.13"
  }
 },
 "nbformat": 4,
 "nbformat_minor": 5
}
