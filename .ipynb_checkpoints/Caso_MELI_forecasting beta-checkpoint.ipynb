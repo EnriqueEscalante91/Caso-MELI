{
 "cells": [
  {
   "cell_type": "markdown",
   "id": "b50ccf24",
   "metadata": {},
   "source": [
    "# Objetivo de la prueba\n",
    "\n",
    "En este caso, se quiere pronosticar la demanda de un producto para una semana\n",
    "determinada, en una tienda especial. El conjunto de datos que recibe consta de 8 semanas\n",
    "de transacciones de ventas en México.\n",
    "\n",
    "Cada semana, hay camiones de reparto que entregan productos a los vendedores. Cada\n",
    "transacción consiste en ventas y devoluciones. Las devoluciones son los productos que no\n",
    "se han vendido y caducado.\n",
    "\n",
    "La demanda de un producto en una semana determinada se define como las ventas de esta\n",
    "semana restado por el retorno de la próxima semana.\n",
    "\n",
    "## Requisitos\n",
    "\n",
    "● Intentar desarrollar la prueba en Python / R / SQL, o el programa que se le facilite.\n",
    "\n",
    "● Comparte el documento con las respuestas, incluye una breve explicación de tus resultados.\n",
    "\n",
    "● Comparta su código para revisarlo en detalle."
   ]
  },
  {
   "cell_type": "markdown",
   "id": "887a59fd",
   "metadata": {},
   "source": [
    "## Entregables\n",
    "\n",
    "1. Justifica la elección del algoritmo que utilizaste.\n",
    "\n",
    "2. Graficar una serie de tiempo para una determinada combinación producto-cliente-agencia.\n",
    "\n",
    "3. Agregue varias métricas de su elección para mostrar la solidez del algoritmo.\n",
    "\n",
    "4. Definir una muestra de clientes que represente a una agencia específica (Especifique cuál agencia y cuáles fueron sus criterios de selección y metodología aplicada).\n",
    "\n",
    "5. Prediga la semana 9 para los 3 productos más vendidos en la muestra de su cliente.\n",
    "\n",
    "6. Haz un dibujo de diagrama de flujo que mapee todos los pasos de tu algoritmo usado."
   ]
  },
  {
   "cell_type": "markdown",
   "id": "00483bcc",
   "metadata": {},
   "source": [
    "## Cosas a tener en cuenta\n",
    "\n",
    "● Puede haber productos en el conjunto de prueba que no existen en el conjunto\n",
    "de entrenamiento. Este es el comportamiento de los datos de inventario, ya que\n",
    "hay nuevos productos que se venden todo el tiempo. Tu modelo debería ser\n",
    "capaz de acomodar esto.\n",
    "\n",
    "● Hay Cliente_ID duplicados en cliente_tabla, lo que significa un Cliente_ID. Puede\n",
    "tener múltiples NombreCliente que son muy similares. Esto se debe al\n",
    "NombreCliente ser ruidoso y no estandarizado en los datos sin procesar, por lo\n",
    "que depende de usted decidir cómo limpiar y utilizar esta información.\n",
    "\n",
    "● La demanda ajustada (Demanda_uni_equil) siempre es >= 0 ya que la demanda\n",
    "debería ser un 0 o un valor positivo. La razón que Venta_uni_hoy -\n",
    "Dev_uni_proxima a veces tiene valores negativos es que el los registros de\n",
    "devoluciones a veces se prolongan durante algunas semanas."
   ]
  },
  {
   "cell_type": "markdown",
   "id": "1ec0f3f9",
   "metadata": {},
   "source": [
    "## Descripciones de archivos\n",
    "\n",
    "● cliente_tabla.csv: nombres de clientes (se pueden unir con tren/prueba en\n",
    "Cliente_ID)\n",
    "\n",
    "● producto_tabla.csv: nombres de productos (se pueden unir con tren/prueba en\n",
    "Producto_ID)\n",
    "\n",
    "● estados_state.csv: ciudad y estado (se puede unir con tren/prueba en Agencia_ID) Campos de información\n",
    "\n",
    "● Semana — Número de semana (de jueves a miércoles)\n",
    "\n",
    "● Agencia_ID: ID del depósito de ventas\n",
    "\n",
    "● Canal_ID: ID del canal de ventas\n",
    "\n",
    "● Ruta_SAK: ID de ruta (Varias rutas = Depósito de ventas)\n",
    "\n",
    "● Cliente_ID: identificación del cliente\n",
    "\n",
    "● NombreCliente — Nombre del cliente\n",
    "\n",
    "● Producto_ID — Identificación del producto\n",
    "\n",
    "● NombreProducto — Nombre del producto\n",
    "\n",
    "● Venta_uni_hoy: unidad de ventas de esta semana (entero)\n",
    "\n",
    "● Venta_hoy — Ventas esta semana (unidad: pesos)\n",
    "\n",
    "● Dev_uni_proxima: devuelve la unidad la próxima semana (entero)\n",
    "\n",
    "● Dev_proxima — Vuelve la próxima semana (unidad: pesos)\n",
    "\n",
    "● Demanda_uni_equil — Demanda ajustada (entero) (Este es el objetivo que predecir)"
   ]
  },
  {
   "cell_type": "markdown",
   "id": "1efe051c",
   "metadata": {},
   "source": [
    "# Preparación de los datos"
   ]
  },
  {
   "cell_type": "markdown",
   "id": "5a776b03",
   "metadata": {},
   "source": [
    "## Limpiar tabla de clientes\n",
    "Hay Cliente_ID duplicados en cliente_tabla, lo que significa un Cliente_ID. Puede\n",
    "tener múltiples NombreCliente que son muy similares. \n",
    "\n",
    "Esto se debe al NombreCliente ser ruidoso y no estandarizado en los datos sin procesar, por lo\n",
    "que depende de usted decidir cómo limpiar y utilizar esta información."
   ]
  },
  {
   "cell_type": "code",
   "execution_count": 10,
   "id": "674344d5",
   "metadata": {},
   "outputs": [],
   "source": [
    "# Importar libreria para leer dataset\n",
    "import pandas as pd"
   ]
  },
  {
   "cell_type": "code",
   "execution_count": 11,
   "id": "5c1f2098",
   "metadata": {
    "scrolled": false
   },
   "outputs": [
    {
     "data": {
      "text/plain": [
       "(935362, 2)"
      ]
     },
     "execution_count": 11,
     "metadata": {},
     "output_type": "execute_result"
    }
   ],
   "source": [
    "# cargar dataset de cliente mediante url de repositorio publico en github para realizar proceso de data cleaning\n",
    "df_duplicate = pd.read_csv(\"https://media.githubusercontent.com/media/EnriqueEscalante91/Caso-MELI/master/cliente_tabla.csv\")\n",
    "df_duplicate.shape"
   ]
  },
  {
   "cell_type": "code",
   "execution_count": 12,
   "id": "3e1978a0",
   "metadata": {
    "scrolled": false
   },
   "outputs": [
    {
     "name": "stdout",
     "output_type": "stream",
     "text": [
      "   Cliente_ID                            NombreCliente\n",
      "0           0                               SIN NOMBRE\n",
      "1           1                         OXXO XINANTECATL\n",
      "2           2                               SIN NOMBRE\n",
      "3           3                                EL MORENO\n",
      "4           4  SDN SER  DE ALIM  CUERPO SA CIA  DE INT\n"
     ]
    }
   ],
   "source": [
    "# Mostrar los primeros registros del DataFrame\n",
    "print(df_duplicate.head()) "
   ]
  },
  {
   "cell_type": "code",
   "execution_count": 13,
   "id": "f47a049d",
   "metadata": {
    "scrolled": false
   },
   "outputs": [
    {
     "name": "stdout",
     "output_type": "stream",
     "text": [
      "Registros duplicados:\n",
      "        Cliente_ID                            NombreCliente\n",
      "0                0                               SIN NOMBRE\n",
      "1                1                         OXXO XINANTECATL\n",
      "2                2                               SIN NOMBRE\n",
      "3                3                                EL MORENO\n",
      "4                4  SDN SER  DE ALIM  CUERPO SA CIA  DE INT\n",
      "...            ...                                      ...\n",
      "935357    11011586                               OXXO PETEN\n",
      "935358    11693264                     SUPER ABARROTES MARY\n",
      "935359    19988629                          NO IDENTIFICADO\n",
      "935360    99999999                          NO IDENTIFICADO\n",
      "935361  2015152015                          NO IDENTIFICADO\n",
      "\n",
      "[935362 rows x 2 columns]\n"
     ]
    }
   ],
   "source": [
    "#Validar si existen registros duplicados\n",
    "duplicates = df_duplicate[df_duplicate.duplicated('Cliente_ID')]\n",
    "# Mostrar los registros duplicados\n",
    "print(\"Registros duplicados:\")\n",
    "print(df_duplicate)"
   ]
  },
  {
   "cell_type": "code",
   "execution_count": 14,
   "id": "2f9d4871",
   "metadata": {},
   "outputs": [],
   "source": [
    "# Eliminar los registros duplicados en la columna 'Cliente_ID'\n",
    "df_cleaned = df_duplicate.drop_duplicates(subset='Cliente_ID', keep='first', inplace=True)"
   ]
  },
  {
   "cell_type": "code",
   "execution_count": 15,
   "id": "6892fb8d",
   "metadata": {},
   "outputs": [
    {
     "name": "stdout",
     "output_type": "stream",
     "text": [
      "DataFrame sin duplicados:\n",
      "None\n"
     ]
    }
   ],
   "source": [
    "# Mostrar el DataFrame resultante\n",
    "print(\"DataFrame sin duplicados:\")\n",
    "print(df_cleaned)"
   ]
  },
  {
   "cell_type": "code",
   "execution_count": 16,
   "id": "85acae50",
   "metadata": {},
   "outputs": [],
   "source": [
    "# Guardar el DataFrame limpio en un nuevo archivo CSV\n",
    "#csv_filename = \"cliente_tabla_sin_duplicados.csv\"\n",
    "#df.to_csv(csv_filename, index=False)"
   ]
  },
  {
   "cell_type": "markdown",
   "id": "8629477b",
   "metadata": {},
   "source": [
    "# Desarrollo del modelo\n",
    "\n",
    "LSTM (Long Short-Term Memory) en TensorFlow y Keras es altamente recomendado para pronósticos de series temporales debido a su capacidad para capturar patrones a largo plazo y dependencias temporales. Las capas LSTM manejan secuencias variables, conservan información crucial a lo largo del tiempo y evitan problemas de desvanecimiento del gradiente. Ofrecen flexibilidad para configurar hiperparámetros y se integran en modelos Sequential. Estas características los hacen adecuados para capturar relaciones complejas en datos secuenciales y facilitan el pronóstico preciso en problemas de series temporales como la predicción de la demanda basada en datos históricos.\n"
   ]
  },
  {
   "cell_type": "code",
   "execution_count": 17,
   "id": "13e2b2aa",
   "metadata": {},
   "outputs": [],
   "source": [
    "# Importar libreria pandas en caso de no haber ejecutado antes\n",
    "#import pandas as pd\n",
    "# Importar Tensorflow para nuestro modelo de machine learning\n",
    "from tensorflow.keras.models import Sequential\n",
    "from tensorflow.keras.layers import LSTM, Dense\n",
    "#importar libreria para conectar con base de datos SQL server\n",
    "from sqlalchemy import create_engine"
   ]
  },
  {
   "cell_type": "markdown",
   "id": "42b364a2",
   "metadata": {},
   "source": [
    "## Entregable 1\n",
    "El algoritmo LSTM (Long Short-Term Memory) en un modelo construido con TensorFlow y Keras tiene capacidad para tratar con secuencias de datos, como series temporales, y capturar patrones a largo plazo en los datos. Aquí hay algunas razones para considerar el uso de un modelo LSTM:\n",
    "\n",
    "Captura de Dependencias Temporales: En problemas de pronóstico de series temporales, las dependencias temporales son cruciales. Las capas LSTM están diseñadas para capturar y recordar patrones de dependencia a lo largo del tiempo, lo que las hace ideales para problemas donde la relación entre las observaciones en diferentes momentos es esencial para hacer predicciones precisas.\n",
    "\n",
    "Manejo de Secuencias: Las series temporales y otros tipos de datos secuenciales presentan desafíos únicos en el modelado. Las capas LSTM pueden manejar secuencias de longitud variable y aprender relaciones complejas entre las diferentes entradas en diferentes pasos de tiempo.\n",
    "\n",
    "Memoria a Largo Plazo: A diferencia de las redes neuronales feedforward tradicionales, las LSTM tienen unidades de memoria que les permiten retener información importante a lo largo de la secuencia. Esto permite capturar patrones a largo plazo en los datos, lo que puede ser fundamental para pronósticos precisos en series temporales.\n",
    "\n",
    "Resistencia al Desvanecimiento del Gradiente: Las capas LSTM están diseñadas para mitigar el problema del desvanecimiento del gradiente en redes neuronales profundas. Esto significa que son más efectivas para entrenar en redes profundas con muchas capas, lo que puede ser útil para capturar relaciones complejas en los datos.\n",
    "\n",
    "Flexibilidad: Las capas LSTM pueden configurarse con diferentes hiperparámetros, como la cantidad de unidades LSTM en cada capa, el número de capas LSTM, la función de activación y más. Esto permite ajustar el modelo a las características específicas de tus datos y problema.\n",
    "\n",
    "Pronóstico: Dado que estás interesado en pronosticar la demanda futura basada en datos históricos, un modelo LSTM puede ser particularmente útil, ya que puede capturar patrones y tendencias en las series temporales, permitiéndote hacer predicciones precisas.\n",
    "\n",
    "La combinación de capas LSTM y otras capas, como capas densas (Dense), en un modelo Sequential de Keras te brinda flexibilidad para diseñar y ajustar el modelo según las necesidades de tu conjunto de datos y el problema específico que estás abordando. En resumen, el uso de capas LSTM en un modelo Keras es adecuado para problemas que involucran secuencias temporales y relaciones a largo plazo entre los datos.\n"
   ]
  },
  {
   "cell_type": "code",
   "execution_count": 18,
   "id": "29e0faf9",
   "metadata": {},
   "outputs": [
    {
     "data": {
      "text/plain": [
       "(7974418, 11)"
      ]
     },
     "execution_count": 18,
     "metadata": {},
     "output_type": "execute_result"
    }
   ],
   "source": [
    "# cargar dataset de ventas \n",
    "# este dataset lo utilizaremos como datos de entrenamiento del modelo.\n",
    "df_train = pd.read_csv(\"https://media.githubusercontent.com/media/EnriqueEscalante91/Caso-MELI/master/dfventas.csv\")\n",
    "df_train.shape"
   ]
  },
  {
   "cell_type": "code",
   "execution_count": 19,
   "id": "d9d93195",
   "metadata": {
    "scrolled": true
   },
   "outputs": [
    {
     "data": {
      "text/html": [
       "<div>\n",
       "<style scoped>\n",
       "    .dataframe tbody tr th:only-of-type {\n",
       "        vertical-align: middle;\n",
       "    }\n",
       "\n",
       "    .dataframe tbody tr th {\n",
       "        vertical-align: top;\n",
       "    }\n",
       "\n",
       "    .dataframe thead th {\n",
       "        text-align: right;\n",
       "    }\n",
       "</style>\n",
       "<table border=\"1\" class=\"dataframe\">\n",
       "  <thead>\n",
       "    <tr style=\"text-align: right;\">\n",
       "      <th></th>\n",
       "      <th>Semana</th>\n",
       "      <th>Agencia_ID</th>\n",
       "      <th>Canal_ID</th>\n",
       "      <th>Ruta_SAK</th>\n",
       "      <th>Cliente_ID</th>\n",
       "      <th>Producto_ID</th>\n",
       "      <th>Venta_uni_hoy</th>\n",
       "      <th>Venta_hoy</th>\n",
       "      <th>Dev_uni_proxima</th>\n",
       "      <th>Dev_proxima</th>\n",
       "      <th>Demanda_uni_equil</th>\n",
       "    </tr>\n",
       "  </thead>\n",
       "  <tbody>\n",
       "    <tr>\n",
       "      <th>count</th>\n",
       "      <td>7.974418e+06</td>\n",
       "      <td>7.974418e+06</td>\n",
       "      <td>7.974418e+06</td>\n",
       "      <td>7.974418e+06</td>\n",
       "      <td>7.974418e+06</td>\n",
       "      <td>7.974418e+06</td>\n",
       "      <td>7.974418e+06</td>\n",
       "      <td>7.974418e+06</td>\n",
       "      <td>7.974418e+06</td>\n",
       "      <td>7.974418e+06</td>\n",
       "      <td>7.974418e+06</td>\n",
       "    </tr>\n",
       "    <tr>\n",
       "      <th>mean</th>\n",
       "      <td>5.446631e+00</td>\n",
       "      <td>1.126474e+03</td>\n",
       "      <td>1.269744e+00</td>\n",
       "      <td>1.827039e+03</td>\n",
       "      <td>1.426347e+06</td>\n",
       "      <td>1.499695e+04</td>\n",
       "      <td>7.534587e+00</td>\n",
       "      <td>8.140738e+01</td>\n",
       "      <td>1.044087e-01</td>\n",
       "      <td>1.209538e+00</td>\n",
       "      <td>7.460012e+00</td>\n",
       "    </tr>\n",
       "    <tr>\n",
       "      <th>std</th>\n",
       "      <td>1.735310e+00</td>\n",
       "      <td>1.243164e+01</td>\n",
       "      <td>1.039153e+00</td>\n",
       "      <td>1.276917e+03</td>\n",
       "      <td>1.522097e+06</td>\n",
       "      <td>1.769279e+04</td>\n",
       "      <td>2.206313e+01</td>\n",
       "      <td>5.859644e+02</td>\n",
       "      <td>3.211733e+00</td>\n",
       "      <td>2.832457e+01</td>\n",
       "      <td>2.190748e+01</td>\n",
       "    </tr>\n",
       "    <tr>\n",
       "      <th>min</th>\n",
       "      <td>3.000000e+00</td>\n",
       "      <td>1.110000e+03</td>\n",
       "      <td>1.000000e+00</td>\n",
       "      <td>1.000000e+00</td>\n",
       "      <td>3.967000e+03</td>\n",
       "      <td>5.300000e+01</td>\n",
       "      <td>0.000000e+00</td>\n",
       "      <td>0.000000e+00</td>\n",
       "      <td>0.000000e+00</td>\n",
       "      <td>0.000000e+00</td>\n",
       "      <td>0.000000e+00</td>\n",
       "    </tr>\n",
       "    <tr>\n",
       "      <th>25%</th>\n",
       "      <td>4.000000e+00</td>\n",
       "      <td>1.118000e+03</td>\n",
       "      <td>1.000000e+00</td>\n",
       "      <td>1.201000e+03</td>\n",
       "      <td>3.242880e+05</td>\n",
       "      <td>1.220000e+03</td>\n",
       "      <td>2.000000e+00</td>\n",
       "      <td>1.886000e+01</td>\n",
       "      <td>0.000000e+00</td>\n",
       "      <td>0.000000e+00</td>\n",
       "      <td>2.000000e+00</td>\n",
       "    </tr>\n",
       "    <tr>\n",
       "      <th>50%</th>\n",
       "      <td>5.000000e+00</td>\n",
       "      <td>1.123000e+03</td>\n",
       "      <td>1.000000e+00</td>\n",
       "      <td>1.433000e+03</td>\n",
       "      <td>8.711310e+05</td>\n",
       "      <td>2.233000e+03</td>\n",
       "      <td>4.000000e+00</td>\n",
       "      <td>3.459000e+01</td>\n",
       "      <td>0.000000e+00</td>\n",
       "      <td>0.000000e+00</td>\n",
       "      <td>4.000000e+00</td>\n",
       "    </tr>\n",
       "    <tr>\n",
       "      <th>75%</th>\n",
       "      <td>7.000000e+00</td>\n",
       "      <td>1.130000e+03</td>\n",
       "      <td>1.000000e+00</td>\n",
       "      <td>1.625000e+03</td>\n",
       "      <td>2.104284e+06</td>\n",
       "      <td>3.421200e+04</td>\n",
       "      <td>7.000000e+00</td>\n",
       "      <td>6.540000e+01</td>\n",
       "      <td>0.000000e+00</td>\n",
       "      <td>0.000000e+00</td>\n",
       "      <td>7.000000e+00</td>\n",
       "    </tr>\n",
       "    <tr>\n",
       "      <th>max</th>\n",
       "      <td>8.000000e+00</td>\n",
       "      <td>1.173000e+03</td>\n",
       "      <td>1.100000e+01</td>\n",
       "      <td>9.988000e+03</td>\n",
       "      <td>1.000000e+08</td>\n",
       "      <td>4.999400e+04</td>\n",
       "      <td>4.800000e+03</td>\n",
       "      <td>6.473600e+05</td>\n",
       "      <td>3.360000e+03</td>\n",
       "      <td>4.950000e+04</td>\n",
       "      <td>4.732000e+03</td>\n",
       "    </tr>\n",
       "  </tbody>\n",
       "</table>\n",
       "</div>"
      ],
      "text/plain": [
       "             Semana    Agencia_ID      Canal_ID      Ruta_SAK    Cliente_ID  \\\n",
       "count  7.974418e+06  7.974418e+06  7.974418e+06  7.974418e+06  7.974418e+06   \n",
       "mean   5.446631e+00  1.126474e+03  1.269744e+00  1.827039e+03  1.426347e+06   \n",
       "std    1.735310e+00  1.243164e+01  1.039153e+00  1.276917e+03  1.522097e+06   \n",
       "min    3.000000e+00  1.110000e+03  1.000000e+00  1.000000e+00  3.967000e+03   \n",
       "25%    4.000000e+00  1.118000e+03  1.000000e+00  1.201000e+03  3.242880e+05   \n",
       "50%    5.000000e+00  1.123000e+03  1.000000e+00  1.433000e+03  8.711310e+05   \n",
       "75%    7.000000e+00  1.130000e+03  1.000000e+00  1.625000e+03  2.104284e+06   \n",
       "max    8.000000e+00  1.173000e+03  1.100000e+01  9.988000e+03  1.000000e+08   \n",
       "\n",
       "        Producto_ID  Venta_uni_hoy     Venta_hoy  Dev_uni_proxima  \\\n",
       "count  7.974418e+06   7.974418e+06  7.974418e+06     7.974418e+06   \n",
       "mean   1.499695e+04   7.534587e+00  8.140738e+01     1.044087e-01   \n",
       "std    1.769279e+04   2.206313e+01  5.859644e+02     3.211733e+00   \n",
       "min    5.300000e+01   0.000000e+00  0.000000e+00     0.000000e+00   \n",
       "25%    1.220000e+03   2.000000e+00  1.886000e+01     0.000000e+00   \n",
       "50%    2.233000e+03   4.000000e+00  3.459000e+01     0.000000e+00   \n",
       "75%    3.421200e+04   7.000000e+00  6.540000e+01     0.000000e+00   \n",
       "max    4.999400e+04   4.800000e+03  6.473600e+05     3.360000e+03   \n",
       "\n",
       "        Dev_proxima  Demanda_uni_equil  \n",
       "count  7.974418e+06       7.974418e+06  \n",
       "mean   1.209538e+00       7.460012e+00  \n",
       "std    2.832457e+01       2.190748e+01  \n",
       "min    0.000000e+00       0.000000e+00  \n",
       "25%    0.000000e+00       2.000000e+00  \n",
       "50%    0.000000e+00       4.000000e+00  \n",
       "75%    0.000000e+00       7.000000e+00  \n",
       "max    4.950000e+04       4.732000e+03  "
      ]
     },
     "execution_count": 19,
     "metadata": {},
     "output_type": "execute_result"
    }
   ],
   "source": [
    "df_train.describe()"
   ]
  },
  {
   "cell_type": "code",
   "execution_count": 20,
   "id": "66ffb044",
   "metadata": {
    "scrolled": false
   },
   "outputs": [
    {
     "name": "stdout",
     "output_type": "stream",
     "text": [
      "<class 'pandas.core.frame.DataFrame'>\n",
      "RangeIndex: 7974418 entries, 0 to 7974417\n",
      "Data columns (total 11 columns):\n",
      " #   Column             Dtype  \n",
      "---  ------             -----  \n",
      " 0   Semana             int64  \n",
      " 1   Agencia_ID         int64  \n",
      " 2   Canal_ID           int64  \n",
      " 3   Ruta_SAK           int64  \n",
      " 4   Cliente_ID         int64  \n",
      " 5   Producto_ID        int64  \n",
      " 6   Venta_uni_hoy      int64  \n",
      " 7   Venta_hoy          float64\n",
      " 8   Dev_uni_proxima    int64  \n",
      " 9   Dev_proxima        float64\n",
      " 10  Demanda_uni_equil  int64  \n",
      "dtypes: float64(2), int64(9)\n",
      "memory usage: 669.2 MB\n"
     ]
    }
   ],
   "source": [
    "df_train.info()"
   ]
  },
  {
   "cell_type": "code",
   "execution_count": 21,
   "id": "02f8ab46",
   "metadata": {},
   "outputs": [
    {
     "data": {
      "text/plain": [
       "(1328750, 6)"
      ]
     },
     "execution_count": 21,
     "metadata": {},
     "output_type": "execute_result"
    }
   ],
   "source": [
    "# cargar dataset test\n",
    "# este dataset lo utilizaremos como datos de prueba para comprobar del modelo.\n",
    "df_test = pd.read_csv(\"https://media.githubusercontent.com/media/EnriqueEscalante91/Caso-MELI/master/dftest.csv\")\n",
    "df_test.shape"
   ]
  },
  {
   "cell_type": "code",
   "execution_count": 22,
   "id": "dbea2b73",
   "metadata": {},
   "outputs": [
    {
     "data": {
      "text/html": [
       "<div>\n",
       "<style scoped>\n",
       "    .dataframe tbody tr th:only-of-type {\n",
       "        vertical-align: middle;\n",
       "    }\n",
       "\n",
       "    .dataframe tbody tr th {\n",
       "        vertical-align: top;\n",
       "    }\n",
       "\n",
       "    .dataframe thead th {\n",
       "        text-align: right;\n",
       "    }\n",
       "</style>\n",
       "<table border=\"1\" class=\"dataframe\">\n",
       "  <thead>\n",
       "    <tr style=\"text-align: right;\">\n",
       "      <th></th>\n",
       "      <th>Semana</th>\n",
       "      <th>Agencia_ID</th>\n",
       "      <th>Canal_ID</th>\n",
       "      <th>Ruta_SAK</th>\n",
       "      <th>Cliente_ID</th>\n",
       "      <th>Producto_ID</th>\n",
       "    </tr>\n",
       "  </thead>\n",
       "  <tbody>\n",
       "    <tr>\n",
       "      <th>count</th>\n",
       "      <td>1328750.0</td>\n",
       "      <td>1.328750e+06</td>\n",
       "      <td>1.328750e+06</td>\n",
       "      <td>1.328750e+06</td>\n",
       "      <td>1.328750e+06</td>\n",
       "      <td>1.328750e+06</td>\n",
       "    </tr>\n",
       "    <tr>\n",
       "      <th>mean</th>\n",
       "      <td>9.0</td>\n",
       "      <td>1.126371e+03</td>\n",
       "      <td>1.258535e+00</td>\n",
       "      <td>1.782817e+03</td>\n",
       "      <td>1.431739e+06</td>\n",
       "      <td>1.503235e+04</td>\n",
       "    </tr>\n",
       "    <tr>\n",
       "      <th>std</th>\n",
       "      <td>0.0</td>\n",
       "      <td>1.214889e+01</td>\n",
       "      <td>1.041564e+00</td>\n",
       "      <td>1.220810e+03</td>\n",
       "      <td>1.522251e+06</td>\n",
       "      <td>1.771599e+04</td>\n",
       "    </tr>\n",
       "    <tr>\n",
       "      <th>min</th>\n",
       "      <td>9.0</td>\n",
       "      <td>1.110000e+03</td>\n",
       "      <td>1.000000e+00</td>\n",
       "      <td>1.000000e+00</td>\n",
       "      <td>3.967000e+03</td>\n",
       "      <td>7.200000e+01</td>\n",
       "    </tr>\n",
       "    <tr>\n",
       "      <th>25%</th>\n",
       "      <td>9.0</td>\n",
       "      <td>1.118000e+03</td>\n",
       "      <td>1.000000e+00</td>\n",
       "      <td>1.109000e+03</td>\n",
       "      <td>3.242280e+05</td>\n",
       "      <td>1.220000e+03</td>\n",
       "    </tr>\n",
       "    <tr>\n",
       "      <th>50%</th>\n",
       "      <td>9.0</td>\n",
       "      <td>1.123000e+03</td>\n",
       "      <td>1.000000e+00</td>\n",
       "      <td>1.423000e+03</td>\n",
       "      <td>8.647840e+05</td>\n",
       "      <td>2.233000e+03</td>\n",
       "    </tr>\n",
       "    <tr>\n",
       "      <th>75%</th>\n",
       "      <td>9.0</td>\n",
       "      <td>1.130000e+03</td>\n",
       "      <td>1.000000e+00</td>\n",
       "      <td>1.624000e+03</td>\n",
       "      <td>2.107852e+06</td>\n",
       "      <td>3.514100e+04</td>\n",
       "    </tr>\n",
       "    <tr>\n",
       "      <th>max</th>\n",
       "      <td>9.0</td>\n",
       "      <td>1.168000e+03</td>\n",
       "      <td>1.100000e+01</td>\n",
       "      <td>9.929000e+03</td>\n",
       "      <td>1.998863e+07</td>\n",
       "      <td>4.999400e+04</td>\n",
       "    </tr>\n",
       "  </tbody>\n",
       "</table>\n",
       "</div>"
      ],
      "text/plain": [
       "          Semana    Agencia_ID      Canal_ID      Ruta_SAK    Cliente_ID  \\\n",
       "count  1328750.0  1.328750e+06  1.328750e+06  1.328750e+06  1.328750e+06   \n",
       "mean         9.0  1.126371e+03  1.258535e+00  1.782817e+03  1.431739e+06   \n",
       "std          0.0  1.214889e+01  1.041564e+00  1.220810e+03  1.522251e+06   \n",
       "min          9.0  1.110000e+03  1.000000e+00  1.000000e+00  3.967000e+03   \n",
       "25%          9.0  1.118000e+03  1.000000e+00  1.109000e+03  3.242280e+05   \n",
       "50%          9.0  1.123000e+03  1.000000e+00  1.423000e+03  8.647840e+05   \n",
       "75%          9.0  1.130000e+03  1.000000e+00  1.624000e+03  2.107852e+06   \n",
       "max          9.0  1.168000e+03  1.100000e+01  9.929000e+03  1.998863e+07   \n",
       "\n",
       "        Producto_ID  \n",
       "count  1.328750e+06  \n",
       "mean   1.503235e+04  \n",
       "std    1.771599e+04  \n",
       "min    7.200000e+01  \n",
       "25%    1.220000e+03  \n",
       "50%    2.233000e+03  \n",
       "75%    3.514100e+04  \n",
       "max    4.999400e+04  "
      ]
     },
     "execution_count": 22,
     "metadata": {},
     "output_type": "execute_result"
    }
   ],
   "source": [
    "df_test.describe()"
   ]
  },
  {
   "cell_type": "code",
   "execution_count": 23,
   "id": "062477f7",
   "metadata": {},
   "outputs": [
    {
     "name": "stdout",
     "output_type": "stream",
     "text": [
      "<class 'pandas.core.frame.DataFrame'>\n",
      "RangeIndex: 1328750 entries, 0 to 1328749\n",
      "Data columns (total 6 columns):\n",
      " #   Column       Non-Null Count    Dtype\n",
      "---  ------       --------------    -----\n",
      " 0   Semana       1328750 non-null  int64\n",
      " 1   Agencia_ID   1328750 non-null  int64\n",
      " 2   Canal_ID     1328750 non-null  int64\n",
      " 3   Ruta_SAK     1328750 non-null  int64\n",
      " 4   Cliente_ID   1328750 non-null  int64\n",
      " 5   Producto_ID  1328750 non-null  int64\n",
      "dtypes: int64(6)\n",
      "memory usage: 60.8 MB\n"
     ]
    }
   ],
   "source": [
    "df_test.info()"
   ]
  },
  {
   "cell_type": "markdown",
   "id": "bf976efb",
   "metadata": {},
   "source": [
    "# Entregable 2\n",
    "Graficar una serie de tiempo para una determinada combinación\n",
    "producto-cliente-agencia."
   ]
  },
  {
   "cell_type": "code",
   "execution_count": 38,
   "id": "79c69521",
   "metadata": {},
   "outputs": [],
   "source": [
    "#pip install matplotlib"
   ]
  },
  {
   "cell_type": "code",
   "execution_count": 35,
   "id": "0d48162e",
   "metadata": {},
   "outputs": [],
   "source": [
    "import matplotlib.pyplot as plt"
   ]
  },
  {
   "cell_type": "code",
   "execution_count": 37,
   "id": "d46ca12b",
   "metadata": {
    "scrolled": true
   },
   "outputs": [
    {
     "data": {
      "image/png": "[encoded data removed]",
      "text/plain": [
       "<Figure size 600x300 with 1 Axes>"
      ]
     },
     "metadata": {},
     "output_type": "display_data"
    }
   ],
   "source": [
    "# Valores deseados para la combinación\n",
    "producto_id_deseado = 5  # Coloca el valor deseado\n",
    "cliente_id_deseado = 10   # Coloca el valor deseado\n",
    "agencia_id_deseada = 20   # Coloca el valor deseado\n",
    "\n",
    "# Filtra el DataFrame para la combinación específica\n",
    "filtered_df = df_train[(df_train['Producto_ID'] == producto_id_deseado) &\n",
    "                      (df_train['Cliente_ID'] == cliente_id_deseado) &\n",
    "                      (df_train['Agencia_ID'] == agencia_id_deseada)]\n",
    "\n",
    "# Crea el gráfico de serie de tiempo\n",
    "plt.figure(figsize=(6, 3))\n",
    "plt.plot(filtered_df['Semana'], filtered_df['Demanda_uni_equil'])\n",
    "plt.title(f'Serie de Tiempo para Producto {producto_id_deseado}, Cliente {cliente_id_deseado}, Agencia {agencia_id_deseada}')\n",
    "plt.xlabel('Semana')\n",
    "plt.ylabel('Demanda')\n",
    "plt.xticks(rotation=45)\n",
    "plt.tight_layout()\n",
    "plt.show()"
   ]
  },
  {
   "cell_type": "code",
   "execution_count": null,
   "id": "fa1eebe1",
   "metadata": {
    "scrolled": false
   },
   "outputs": [],
   "source": [
    "df_test.describe()"
   ]
  },
  {
   "cell_type": "code",
   "execution_count": null,
   "id": "85c29c76",
   "metadata": {
    "scrolled": true
   },
   "outputs": [],
   "source": [
    "plt.plot"
   ]
  },
  {
   "cell_type": "code",
   "execution_count": null,
   "id": "78e317bb",
   "metadata": {},
   "outputs": [],
   "source": []
  },
  {
   "cell_type": "code",
   "execution_count": null,
   "id": "7c944e52",
   "metadata": {},
   "outputs": [],
   "source": []
  }
 ],
 "metadata": {
  "kernelspec": {
   "display_name": "Python 3 (ipykernel)",
   "language": "python",
   "name": "python3"
  },
  "language_info": {
   "codemirror_mode": {
    "name": "ipython",
    "version": 3
   },
   "file_extension": ".py",
   "mimetype": "text/x-python",
   "name": "python",
   "nbconvert_exporter": "python",
   "pygments_lexer": "ipython3",
   "version": "3.9.13"
  }
 },
 "nbformat": 4,
 "nbformat_minor": 5
}
