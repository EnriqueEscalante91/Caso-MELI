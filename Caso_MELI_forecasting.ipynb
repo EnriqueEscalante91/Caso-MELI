{
 "cells": [
  {
   "cell_type": "markdown",
   "id": "b50ccf24",
   "metadata": {},
   "source": [
    "# Objetivo de la prueba\n",
    "\n",
    "En este caso, se quiere pronosticar la demanda de un producto para una semana\n",
    "determinada, en una tienda especial. El conjunto de datos que recibe consta de 8 semanas\n",
    "de transacciones de ventas en México.\n",
    "\n",
    "Cada semana, hay camiones de reparto que entregan productos a los vendedores. Cada\n",
    "transacción consiste en ventas y devoluciones. Las devoluciones son los productos que no\n",
    "se han vendido y caducado.\n",
    "\n",
    "La demanda de un producto en una semana determinada se define como las ventas de esta\n",
    "semana restado por el retorno de la próxima semana.\n",
    "\n",
    "## Requisitos\n",
    "\n",
    "● Intentar desarrollar la prueba en Python / R / SQL, o el programa que se\n",
    "le facilite.\n",
    "\n",
    "● Comparte el documento con las respuestas, incluye una breve explicación\n",
    "de tus resultados.\n",
    "\n",
    "● Comparta su código para revisarlo en detalle."
   ]
  },
  {
   "cell_type": "markdown",
   "id": "5a776b03",
   "metadata": {},
   "source": [
    "# Limpiar tabla de clientes\n",
    "Hay Cliente_ID duplicados en cliente_tabla, lo que significa un Cliente_ID. Puede\n",
    "tener múltiples NombreCliente que son muy similares. \n",
    "\n",
    "Esto se debe al NombreCliente ser ruidoso y no estandarizado en los datos sin procesar, por lo\n",
    "que depende de usted decidir cómo limpiar y utilizar esta información."
   ]
  },
  {
   "cell_type": "code",
   "execution_count": 1,
   "id": "674344d5",
   "metadata": {},
   "outputs": [],
   "source": [
    "# Importar libreria para leer dataset\n",
    "import pandas as pd"
   ]
  },
  {
   "cell_type": "code",
   "execution_count": 2,
   "id": "5c1f2098",
   "metadata": {
    "scrolled": false
   },
   "outputs": [
    {
     "data": {
      "text/plain": [
       "(935362, 2)"
      ]
     },
     "execution_count": 2,
     "metadata": {},
     "output_type": "execute_result"
    }
   ],
   "source": [
    "# cargar dataset de cliente mediante url de repositorio publico en github\n",
    "df_duplicate = pd.read_csv(\"https://media.githubusercontent.com/media/EnriqueEscalante91/Caso-MELI/master/cliente_tabla.csv\")\n",
    "df_duplicate.shape"
   ]
  },
  {
   "cell_type": "code",
   "execution_count": 3,
   "id": "3e1978a0",
   "metadata": {
    "scrolled": false
   },
   "outputs": [
    {
     "name": "stdout",
     "output_type": "stream",
     "text": [
      "   Cliente_ID     NombreCliente\n",
      "0           0        SIN NOMBRE\n",
      "1           1  OXXO XINANTECATL\n",
      "2           2        SIN NOMBRE\n"
     ]
    }
   ],
   "source": [
    "# Mostrar los primeros registros del DataFrame\n",
    "print(df_duplicate.head(3)) "
   ]
  },
  {
   "cell_type": "code",
   "execution_count": 4,
   "id": "f47a049d",
   "metadata": {
    "scrolled": false
   },
   "outputs": [
    {
     "name": "stdout",
     "output_type": "stream",
     "text": [
      "Registros duplicados:\n",
      "        Cliente_ID                            NombreCliente\n",
      "0                0                               SIN NOMBRE\n",
      "1                1                         OXXO XINANTECATL\n",
      "2                2                               SIN NOMBRE\n",
      "3                3                                EL MORENO\n",
      "4                4  SDN SER  DE ALIM  CUERPO SA CIA  DE INT\n",
      "...            ...                                      ...\n",
      "935357    11011586                               OXXO PETEN\n",
      "935358    11693264                     SUPER ABARROTES MARY\n",
      "935359    19988629                          NO IDENTIFICADO\n",
      "935360    99999999                          NO IDENTIFICADO\n",
      "935361  2015152015                          NO IDENTIFICADO\n",
      "\n",
      "[935362 rows x 2 columns]\n"
     ]
    }
   ],
   "source": [
    "#Validar si existen registros duplicados\n",
    "duplicates = df_duplicate[df_duplicate.duplicated('Cliente_ID')]\n",
    "# Mostrar los registros duplicados\n",
    "print(\"Registros duplicados:\")\n",
    "print(df_duplicate)"
   ]
  },
  {
   "cell_type": "code",
   "execution_count": 5,
   "id": "2f9d4871",
   "metadata": {},
   "outputs": [],
   "source": [
    "# Eliminar los registros duplicados en la columna 'Cliente_ID'\n",
    "df_cleaned = df_duplicate.drop_duplicates(subset='Cliente_ID', keep='first', inplace=True)"
   ]
  },
  {
   "cell_type": "code",
   "execution_count": 6,
   "id": "6892fb8d",
   "metadata": {},
   "outputs": [
    {
     "name": "stdout",
     "output_type": "stream",
     "text": [
      "DataFrame sin duplicados:\n",
      "None\n"
     ]
    }
   ],
   "source": [
    "# Mostrar el DataFrame resultante\n",
    "print(\"DataFrame sin duplicados:\")\n",
    "print(df_cleaned)"
   ]
  },
  {
   "cell_type": "code",
   "execution_count": 7,
   "id": "85acae50",
   "metadata": {},
   "outputs": [],
   "source": [
    "# Guardar el DataFrame limpio en un nuevo archivo CSV\n",
    "#csv_filename = \"cliente_tabla_sin_duplicados.csv\"\n",
    "#df.to_csv(csv_filename, index=False)"
   ]
  },
  {
   "cell_type": "markdown",
   "id": "887a59fd",
   "metadata": {},
   "source": [
    "# Entregables\n",
    "\n",
    "1. Justifica la elección del algoritmo que utilizaste.\n",
    "\n",
    "2. Graficar una serie de tiempo para una determinada combinación producto-cliente-agencia.\n",
    "\n",
    "3. Agregue varias métricas de su elección para mostrar la solidez del algoritmo.\n",
    "\n",
    "4. Definir una muestra de clientes que represente a una agencia específica\n",
    "(Especifique cuál agencia y cuáles fueron sus criterios de selección y metodología\n",
    "aplicada).\n",
    "\n",
    "5. Prediga la semana 9 para los 3 productos más vendidos en la muestra de su cliente.\n",
    "\n",
    "6. Haz un dibujo de diagrama de flujo que mapee todos los pasos de tu algoritmo usado."
   ]
  },
  {
   "cell_type": "code",
   "execution_count": null,
   "id": "13e2b2aa",
   "metadata": {},
   "outputs": [],
   "source": [
    "# Importar libreria pandas en caso de no haber ejecutado antes\n",
    "import pandas as pd\n",
    "# Importar Tensorflow para nuestro modelo de machine learning\n",
    "from tensorflow.keras.models import Sequential\n",
    "from tensorflow.keras.layers import LSTM, Dense\n",
    "#importar libreria para conectar con base de datos SQL server\n",
    "from sqlalchemy import create_engine"
   ]
  },
  {
   "cell_type": "markdown",
   "id": "42b364a2",
   "metadata": {},
   "source": [
    "# Entregable 1\n",
    "El uso del algoritmo LSTM (Long Short-Term Memory) en un modelo construido con TensorFlow y Keras puede ser justificado por sus capacidades para tratar con secuencias de datos, como series temporales, y capturar patrones a largo plazo en los datos. Aquí hay algunas razones para considerar el uso de un modelo LSTM:\n",
    "\n",
    "Captura de Dependencias Temporales: En problemas de pronóstico de series temporales, las dependencias temporales son cruciales. Las capas LSTM están diseñadas para capturar y recordar patrones de dependencia a lo largo del tiempo, lo que las hace ideales para problemas donde la relación entre las observaciones en diferentes momentos es esencial para hacer predicciones precisas.\n",
    "\n",
    "Manejo de Secuencias: Las series temporales y otros tipos de datos secuenciales presentan desafíos únicos en el modelado. Las capas LSTM pueden manejar secuencias de longitud variable y aprender relaciones complejas entre las diferentes entradas en diferentes pasos de tiempo.\n",
    "\n",
    "Memoria a Largo Plazo: A diferencia de las redes neuronales feedforward tradicionales, las LSTM tienen unidades de memoria que les permiten retener información importante a lo largo de la secuencia. Esto permite capturar patrones a largo plazo en los datos, lo que puede ser fundamental para pronósticos precisos en series temporales.\n",
    "\n",
    "Resistencia al Desvanecimiento del Gradiente: Las capas LSTM están diseñadas para mitigar el problema del desvanecimiento del gradiente en redes neuronales profundas. Esto significa que son más efectivas para entrenar en redes profundas con muchas capas, lo que puede ser útil para capturar relaciones complejas en los datos.\n",
    "\n",
    "Flexibilidad: Las capas LSTM pueden configurarse con diferentes hiperparámetros, como la cantidad de unidades LSTM en cada capa, el número de capas LSTM, la función de activación y más. Esto permite ajustar el modelo a las características específicas de tus datos y problema.\n",
    "\n",
    "Pronóstico: Dado que estás interesado en pronosticar la demanda futura basada en datos históricos, un modelo LSTM puede ser particularmente útil, ya que puede capturar patrones y tendencias en las series temporales, permitiéndote hacer predicciones precisas.\n",
    "\n",
    "La combinación de capas LSTM y otras capas, como capas densas (Dense), en un modelo Sequential de Keras te brinda flexibilidad para diseñar y ajustar el modelo según las necesidades de tu conjunto de datos y el problema específico que estás abordando. En resumen, el uso de capas LSTM en un modelo Keras es adecuado para problemas que involucran secuencias temporales y relaciones a largo plazo entre los datos.\n",
    "\n",
    "El uso de LSTM (Long Short-Term Memory) en TensorFlow y Keras es justificado para pronósticos de series temporales debido a su capacidad para capturar patrones a largo plazo y dependencias temporales. Las capas LSTM manejan secuencias variables, conservan información crucial a lo largo del tiempo y evitan problemas de desvanecimiento del gradiente. Ofrecen flexibilidad para configurar hiperparámetros y se integran en modelos Sequential. Estas características los hacen adecuados para capturar relaciones complejas en datos secuenciales y facilitan el pronóstico preciso en problemas de series temporales como la predicción de la demanda basada en datos históricos."
   ]
  },
  {
   "cell_type": "code",
   "execution_count": 63,
   "id": "77f81675",
   "metadata": {},
   "outputs": [],
   "source": [
    "# Configuración de la conexión a la base de datos SQL Server\n",
    "server = 'SCALANTECH\\SQLEXPRESS'\n",
    "database = 'caso_negocio_meli'\n",
    "username = 'sa'\n",
    "password = '123'\n",
    "\n",
    "# Cadena de conexión\n",
    "conn_str = f'mssql+pyodbc://{username}:{password}@{server}/{database}?driver=SQL+Server'"
   ]
  },
  {
   "cell_type": "code",
   "execution_count": 64,
   "id": "0f02f355",
   "metadata": {},
   "outputs": [],
   "source": [
    "#Realizar consulta SQL y JOINs para consolidar el dataframe de entrenamiento\n",
    "query_train = '''\n",
    "SELECT\n",
    "     TOP 100\n",
    "     v.Semana,\n",
    "     v.Agencia_ID,\n",
    "     e.Ciudad,\n",
    "     e.Estado,\n",
    "     c.Cliente_ID,\n",
    "     c.NombreCliente,\n",
    "     p.Producto_ID,\n",
    "     p.NombreProducto,\n",
    "     v.Venta_uni_hoy,\n",
    "     v.Demanda_uni_equil\n",
    "FROM ventas v\n",
    "   INNER JOIN cliente_tabla c ON v.Cliente_ID = c.Cliente_ID\n",
    "   INNER JOIN producto_tabla p ON v.Producto_ID = p.Producto_ID\n",
    "   INNER JOIN estados_state e ON v.Agencia_ID = e.Agencia_ID\n",
    "WHERE v.Demanda_uni_equil IS NOT NULL\n",
    "ORDER BY Demanda_uni_equil DESC;\n",
    "\n",
    "'''\n",
    "\n",
    "# Crear una conexión SQLAlchemy\n",
    "engine = create_engine(conn_str)\n",
    "\n",
    "# Ejecutar la consulta y cargar los resultados en un DataFrame\n",
    "df_train = pd.read_sql(query_train, engine)\n"
   ]
  },
  {
   "cell_type": "code",
   "execution_count": 65,
   "id": "d9d93195",
   "metadata": {
    "scrolled": true
   },
   "outputs": [
    {
     "data": {
      "text/html": [
       "<div>\n",
       "<style scoped>\n",
       "    .dataframe tbody tr th:only-of-type {\n",
       "        vertical-align: middle;\n",
       "    }\n",
       "\n",
       "    .dataframe tbody tr th {\n",
       "        vertical-align: top;\n",
       "    }\n",
       "\n",
       "    .dataframe thead th {\n",
       "        text-align: right;\n",
       "    }\n",
       "</style>\n",
       "<table border=\"1\" class=\"dataframe\">\n",
       "  <thead>\n",
       "    <tr style=\"text-align: right;\">\n",
       "      <th></th>\n",
       "      <th>Semana</th>\n",
       "      <th>Agencia_ID</th>\n",
       "      <th>Cliente_ID</th>\n",
       "      <th>Producto_ID</th>\n",
       "      <th>Venta_uni_hoy</th>\n",
       "      <th>Demanda_uni_equil</th>\n",
       "    </tr>\n",
       "  </thead>\n",
       "  <tbody>\n",
       "    <tr>\n",
       "      <th>count</th>\n",
       "      <td>100.000000</td>\n",
       "      <td>100.000000</td>\n",
       "      <td>1.000000e+02</td>\n",
       "      <td>100.000000</td>\n",
       "      <td>100.000000</td>\n",
       "      <td>100.000000</td>\n",
       "    </tr>\n",
       "    <tr>\n",
       "      <th>mean</th>\n",
       "      <td>5.380000</td>\n",
       "      <td>1140.200000</td>\n",
       "      <td>1.186063e+06</td>\n",
       "      <td>17681.460000</td>\n",
       "      <td>2487.160000</td>\n",
       "      <td>2463.160000</td>\n",
       "    </tr>\n",
       "    <tr>\n",
       "      <th>std</th>\n",
       "      <td>1.710219</td>\n",
       "      <td>21.331439</td>\n",
       "      <td>1.158463e+06</td>\n",
       "      <td>18549.579022</td>\n",
       "      <td>906.958829</td>\n",
       "      <td>876.376985</td>\n",
       "    </tr>\n",
       "    <tr>\n",
       "      <th>min</th>\n",
       "      <td>3.000000</td>\n",
       "      <td>1110.000000</td>\n",
       "      <td>1.787100e+04</td>\n",
       "      <td>1166.000000</td>\n",
       "      <td>1512.000000</td>\n",
       "      <td>1512.000000</td>\n",
       "    </tr>\n",
       "    <tr>\n",
       "      <th>25%</th>\n",
       "      <td>4.000000</td>\n",
       "      <td>1110.000000</td>\n",
       "      <td>5.582062e+05</td>\n",
       "      <td>2604.000000</td>\n",
       "      <td>1819.750000</td>\n",
       "      <td>1819.750000</td>\n",
       "    </tr>\n",
       "    <tr>\n",
       "      <th>50%</th>\n",
       "      <td>5.000000</td>\n",
       "      <td>1139.000000</td>\n",
       "      <td>9.522010e+05</td>\n",
       "      <td>2604.000000</td>\n",
       "      <td>2160.000000</td>\n",
       "      <td>2160.000000</td>\n",
       "    </tr>\n",
       "    <tr>\n",
       "      <th>75%</th>\n",
       "      <td>7.000000</td>\n",
       "      <td>1160.000000</td>\n",
       "      <td>1.216931e+06</td>\n",
       "      <td>34131.750000</td>\n",
       "      <td>3074.000000</td>\n",
       "      <td>3024.000000</td>\n",
       "    </tr>\n",
       "    <tr>\n",
       "      <th>max</th>\n",
       "      <td>8.000000</td>\n",
       "      <td>1168.000000</td>\n",
       "      <td>4.713060e+06</td>\n",
       "      <td>49028.000000</td>\n",
       "      <td>4800.000000</td>\n",
       "      <td>4732.000000</td>\n",
       "    </tr>\n",
       "  </tbody>\n",
       "</table>\n",
       "</div>"
      ],
      "text/plain": [
       "           Semana   Agencia_ID    Cliente_ID   Producto_ID  Venta_uni_hoy  \\\n",
       "count  100.000000   100.000000  1.000000e+02    100.000000     100.000000   \n",
       "mean     5.380000  1140.200000  1.186063e+06  17681.460000    2487.160000   \n",
       "std      1.710219    21.331439  1.158463e+06  18549.579022     906.958829   \n",
       "min      3.000000  1110.000000  1.787100e+04   1166.000000    1512.000000   \n",
       "25%      4.000000  1110.000000  5.582062e+05   2604.000000    1819.750000   \n",
       "50%      5.000000  1139.000000  9.522010e+05   2604.000000    2160.000000   \n",
       "75%      7.000000  1160.000000  1.216931e+06  34131.750000    3074.000000   \n",
       "max      8.000000  1168.000000  4.713060e+06  49028.000000    4800.000000   \n",
       "\n",
       "       Demanda_uni_equil  \n",
       "count         100.000000  \n",
       "mean         2463.160000  \n",
       "std           876.376985  \n",
       "min          1512.000000  \n",
       "25%          1819.750000  \n",
       "50%          2160.000000  \n",
       "75%          3024.000000  \n",
       "max          4732.000000  "
      ]
     },
     "execution_count": 65,
     "metadata": {},
     "output_type": "execute_result"
    }
   ],
   "source": [
    "df_train.describe()"
   ]
  },
  {
   "cell_type": "code",
   "execution_count": 66,
   "id": "66ffb044",
   "metadata": {
    "scrolled": true
   },
   "outputs": [
    {
     "name": "stdout",
     "output_type": "stream",
     "text": [
      "<class 'pandas.core.frame.DataFrame'>\n",
      "RangeIndex: 100 entries, 0 to 99\n",
      "Data columns (total 10 columns):\n",
      " #   Column             Non-Null Count  Dtype \n",
      "---  ------             --------------  ----- \n",
      " 0   Semana             100 non-null    int64 \n",
      " 1   Agencia_ID         100 non-null    int64 \n",
      " 2   Ciudad             100 non-null    object\n",
      " 3   Estado             100 non-null    object\n",
      " 4   Cliente_ID         100 non-null    int64 \n",
      " 5   NombreCliente      100 non-null    object\n",
      " 6   Producto_ID        100 non-null    int64 \n",
      " 7   NombreProducto     100 non-null    object\n",
      " 8   Venta_uni_hoy      100 non-null    int64 \n",
      " 9   Demanda_uni_equil  100 non-null    int64 \n",
      "dtypes: int64(6), object(4)\n",
      "memory usage: 7.9+ KB\n"
     ]
    }
   ],
   "source": [
    "df_train.info()"
   ]
  },
  {
   "cell_type": "markdown",
   "id": "bf976efb",
   "metadata": {},
   "source": [
    "# Entregable 2\n",
    "Graficar una serie de tiempo para una determinada combinación\n",
    "producto-cliente-agencia."
   ]
  },
  {
   "cell_type": "code",
   "execution_count": 67,
   "id": "d46ca12b",
   "metadata": {
    "scrolled": true
   },
   "outputs": [],
   "source": [
    "#importar librerias para gráficar\n",
    "import pandas as pd\n",
    "import plotly.express as px"
   ]
  },
  {
   "cell_type": "code",
   "execution_count": 73,
   "id": "d4355866",
   "metadata": {
    "scrolled": false
   },
   "outputs": [
    {
     "ename": "ValueError",
     "evalue": "Value of 'color' is not the name of a column in 'data_frame'. Expected one of ['Semana', 'Agencia_ID', 'Ciudad', 'Estado', 'Cliente_ID', 'NombreCliente', 'Producto_ID', 'NombreProducto', 'Venta_uni_hoy', 'Demanda_uni_equil'] but received: ENERGYSTARScore",
     "output_type": "error",
     "traceback": [
      "\u001b[1;31m---------------------------------------------------------------------------\u001b[0m",
      "\u001b[1;31mValueError\u001b[0m                                Traceback (most recent call last)",
      "\u001b[1;32m~\\AppData\\Local\\Temp\\ipykernel_8372\\4052533558.py\u001b[0m in \u001b[0;36m<module>\u001b[1;34m\u001b[0m\n\u001b[1;32m----> 1\u001b[1;33m fig = px.scatter(df_train, x='Semana', \n\u001b[0m\u001b[0;32m      2\u001b[0m                 \u001b[0my\u001b[0m\u001b[1;33m=\u001b[0m\u001b[1;34m'Demanda_uni_equil'\u001b[0m\u001b[1;33m,\u001b[0m\u001b[1;33m\u001b[0m\u001b[1;33m\u001b[0m\u001b[0m\n\u001b[0;32m      3\u001b[0m                 \u001b[0mcolor\u001b[0m \u001b[1;33m=\u001b[0m\u001b[1;34m'ENERGYSTARScore'\u001b[0m\u001b[1;33m,\u001b[0m\u001b[1;33m\u001b[0m\u001b[1;33m\u001b[0m\u001b[0m\n\u001b[0;32m      4\u001b[0m                 hover_name= 'Producto_ID')\n\u001b[0;32m      5\u001b[0m \u001b[0mfig\u001b[0m\u001b[1;33m.\u001b[0m\u001b[0mshow\u001b[0m\u001b[1;33m(\u001b[0m\u001b[1;33m)\u001b[0m\u001b[1;33m\u001b[0m\u001b[1;33m\u001b[0m\u001b[0m\n",
      "\u001b[1;32m~\\anaconda3\\lib\\site-packages\\plotly\\express\\_chart_types.py\u001b[0m in \u001b[0;36mscatter\u001b[1;34m(data_frame, x, y, color, symbol, size, hover_name, hover_data, custom_data, text, facet_row, facet_col, facet_col_wrap, facet_row_spacing, facet_col_spacing, error_x, error_x_minus, error_y, error_y_minus, animation_frame, animation_group, category_orders, labels, orientation, color_discrete_sequence, color_discrete_map, color_continuous_scale, range_color, color_continuous_midpoint, symbol_sequence, symbol_map, opacity, size_max, marginal_x, marginal_y, trendline, trendline_options, trendline_color_override, trendline_scope, log_x, log_y, range_x, range_y, render_mode, title, template, width, height)\u001b[0m\n\u001b[0;32m     64\u001b[0m     \u001b[0mmark\u001b[0m \u001b[1;32min\u001b[0m \u001b[1;36m2\u001b[0m\u001b[0mD\u001b[0m \u001b[0mspace\u001b[0m\u001b[1;33m.\u001b[0m\u001b[1;33m\u001b[0m\u001b[1;33m\u001b[0m\u001b[0m\n\u001b[0;32m     65\u001b[0m     \"\"\"\n\u001b[1;32m---> 66\u001b[1;33m     \u001b[1;32mreturn\u001b[0m \u001b[0mmake_figure\u001b[0m\u001b[1;33m(\u001b[0m\u001b[0margs\u001b[0m\u001b[1;33m=\u001b[0m\u001b[0mlocals\u001b[0m\u001b[1;33m(\u001b[0m\u001b[1;33m)\u001b[0m\u001b[1;33m,\u001b[0m \u001b[0mconstructor\u001b[0m\u001b[1;33m=\u001b[0m\u001b[0mgo\u001b[0m\u001b[1;33m.\u001b[0m\u001b[0mScatter\u001b[0m\u001b[1;33m)\u001b[0m\u001b[1;33m\u001b[0m\u001b[1;33m\u001b[0m\u001b[0m\n\u001b[0m\u001b[0;32m     67\u001b[0m \u001b[1;33m\u001b[0m\u001b[0m\n\u001b[0;32m     68\u001b[0m \u001b[1;33m\u001b[0m\u001b[0m\n",
      "\u001b[1;32m~\\anaconda3\\lib\\site-packages\\plotly\\express\\_core.py\u001b[0m in \u001b[0;36mmake_figure\u001b[1;34m(args, constructor, trace_patch, layout_patch)\u001b[0m\n\u001b[0;32m   1988\u001b[0m     \u001b[0mapply_default_cascade\u001b[0m\u001b[1;33m(\u001b[0m\u001b[0margs\u001b[0m\u001b[1;33m)\u001b[0m\u001b[1;33m\u001b[0m\u001b[1;33m\u001b[0m\u001b[0m\n\u001b[0;32m   1989\u001b[0m \u001b[1;33m\u001b[0m\u001b[0m\n\u001b[1;32m-> 1990\u001b[1;33m     \u001b[0margs\u001b[0m \u001b[1;33m=\u001b[0m \u001b[0mbuild_dataframe\u001b[0m\u001b[1;33m(\u001b[0m\u001b[0margs\u001b[0m\u001b[1;33m,\u001b[0m \u001b[0mconstructor\u001b[0m\u001b[1;33m)\u001b[0m\u001b[1;33m\u001b[0m\u001b[1;33m\u001b[0m\u001b[0m\n\u001b[0m\u001b[0;32m   1991\u001b[0m     \u001b[1;32mif\u001b[0m \u001b[0mconstructor\u001b[0m \u001b[1;32min\u001b[0m \u001b[1;33m[\u001b[0m\u001b[0mgo\u001b[0m\u001b[1;33m.\u001b[0m\u001b[0mTreemap\u001b[0m\u001b[1;33m,\u001b[0m \u001b[0mgo\u001b[0m\u001b[1;33m.\u001b[0m\u001b[0mSunburst\u001b[0m\u001b[1;33m,\u001b[0m \u001b[0mgo\u001b[0m\u001b[1;33m.\u001b[0m\u001b[0mIcicle\u001b[0m\u001b[1;33m]\u001b[0m \u001b[1;32mand\u001b[0m \u001b[0margs\u001b[0m\u001b[1;33m[\u001b[0m\u001b[1;34m\"path\"\u001b[0m\u001b[1;33m]\u001b[0m \u001b[1;32mis\u001b[0m \u001b[1;32mnot\u001b[0m \u001b[1;32mNone\u001b[0m\u001b[1;33m:\u001b[0m\u001b[1;33m\u001b[0m\u001b[1;33m\u001b[0m\u001b[0m\n\u001b[0;32m   1992\u001b[0m         \u001b[0margs\u001b[0m \u001b[1;33m=\u001b[0m \u001b[0mprocess_dataframe_hierarchy\u001b[0m\u001b[1;33m(\u001b[0m\u001b[0margs\u001b[0m\u001b[1;33m)\u001b[0m\u001b[1;33m\u001b[0m\u001b[1;33m\u001b[0m\u001b[0m\n",
      "\u001b[1;32m~\\anaconda3\\lib\\site-packages\\plotly\\express\\_core.py\u001b[0m in \u001b[0;36mbuild_dataframe\u001b[1;34m(args, constructor)\u001b[0m\n\u001b[0;32m   1403\u001b[0m     \u001b[1;31m# now that things have been prepped, we do the systematic rewriting of `args`\u001b[0m\u001b[1;33m\u001b[0m\u001b[1;33m\u001b[0m\u001b[0m\n\u001b[0;32m   1404\u001b[0m \u001b[1;33m\u001b[0m\u001b[0m\n\u001b[1;32m-> 1405\u001b[1;33m     df_output, wide_id_vars = process_args_into_dataframe(\n\u001b[0m\u001b[0;32m   1406\u001b[0m         \u001b[0margs\u001b[0m\u001b[1;33m,\u001b[0m \u001b[0mwide_mode\u001b[0m\u001b[1;33m,\u001b[0m \u001b[0mvar_name\u001b[0m\u001b[1;33m,\u001b[0m \u001b[0mvalue_name\u001b[0m\u001b[1;33m\u001b[0m\u001b[1;33m\u001b[0m\u001b[0m\n\u001b[0;32m   1407\u001b[0m     )\n",
      "\u001b[1;32m~\\anaconda3\\lib\\site-packages\\plotly\\express\\_core.py\u001b[0m in \u001b[0;36mprocess_args_into_dataframe\u001b[1;34m(args, wide_mode, var_name, value_name)\u001b[0m\n\u001b[0;32m   1205\u001b[0m                         \u001b[1;32mif\u001b[0m \u001b[0margument\u001b[0m \u001b[1;33m==\u001b[0m \u001b[1;34m\"index\"\u001b[0m\u001b[1;33m:\u001b[0m\u001b[1;33m\u001b[0m\u001b[1;33m\u001b[0m\u001b[0m\n\u001b[0;32m   1206\u001b[0m                             \u001b[0merr_msg\u001b[0m \u001b[1;33m+=\u001b[0m \u001b[1;34m\"\\n To use the index, pass it in directly as `df.index`.\"\u001b[0m\u001b[1;33m\u001b[0m\u001b[1;33m\u001b[0m\u001b[0m\n\u001b[1;32m-> 1207\u001b[1;33m                         \u001b[1;32mraise\u001b[0m \u001b[0mValueError\u001b[0m\u001b[1;33m(\u001b[0m\u001b[0merr_msg\u001b[0m\u001b[1;33m)\u001b[0m\u001b[1;33m\u001b[0m\u001b[1;33m\u001b[0m\u001b[0m\n\u001b[0m\u001b[0;32m   1208\u001b[0m                 \u001b[1;32melif\u001b[0m \u001b[0mlength\u001b[0m \u001b[1;32mand\u001b[0m \u001b[0mlen\u001b[0m\u001b[1;33m(\u001b[0m\u001b[0mdf_input\u001b[0m\u001b[1;33m[\u001b[0m\u001b[0margument\u001b[0m\u001b[1;33m]\u001b[0m\u001b[1;33m)\u001b[0m \u001b[1;33m!=\u001b[0m \u001b[0mlength\u001b[0m\u001b[1;33m:\u001b[0m\u001b[1;33m\u001b[0m\u001b[1;33m\u001b[0m\u001b[0m\n\u001b[0;32m   1209\u001b[0m                     raise ValueError(\n",
      "\u001b[1;31mValueError\u001b[0m: Value of 'color' is not the name of a column in 'data_frame'. Expected one of ['Semana', 'Agencia_ID', 'Ciudad', 'Estado', 'Cliente_ID', 'NombreCliente', 'Producto_ID', 'NombreProducto', 'Venta_uni_hoy', 'Demanda_uni_equil'] but received: ENERGYSTARScore"
     ]
    }
   ],
   "source": [
    "fig = px.scatter(df_train, x='Semana', \n",
    "                y='Demanda_uni_equil',\n",
    "                color ='ENERGYSTARScore',\n",
    "                hover_name= 'Producto_ID')\n",
    "fig.show()\n"
   ]
  },
  {
   "cell_type": "code",
   "execution_count": null,
   "id": "30f31c4b",
   "metadata": {},
   "outputs": [],
   "source": [
    "#Realizar consulta SQL y JOINs para consolidar el dataframe de prueba\n",
    "query_test = '''\n",
    "SELECT\n",
    "     t.Semana,\n",
    "     t.Agencia_ID,\n",
    "     e.Ciudad,\n",
    "     e.Estado,\n",
    "     t.Canal_ID,\n",
    "     t.Ruta_SAK,\n",
    "     t.Cliente_ID,\n",
    "     c.NombreCliente,\n",
    "     t.Producto_ID,\n",
    "     p.NombreProducto\n",
    "FROM test t\n",
    "   INNER JOIN cliente_tabla c ON t.Cliente_ID = c.Cliente_ID\n",
    "   INNER JOIN producto_tabla p ON t.Producto_ID = p.Producto_ID\n",
    "   INNER JOIN estados_state e ON t.Agencia_ID = e.Agencia_ID\n",
    "'''\n",
    "\n",
    "# Crear una conexión SQLAlchemy\n",
    "engine = create_engine(conn_str)\n",
    "\n",
    "# Ejecutar la consulta y cargar los resultados en un DataFrame\n",
    "df_test = pd.read_sql(query_test, engine)"
   ]
  },
  {
   "cell_type": "code",
   "execution_count": null,
   "id": "fa1eebe1",
   "metadata": {
    "scrolled": false
   },
   "outputs": [],
   "source": [
    "df_test.describe()"
   ]
  },
  {
   "cell_type": "code",
   "execution_count": 54,
   "id": "85c29c76",
   "metadata": {},
   "outputs": [
    {
     "data": {
      "text/plain": [
       "<function matplotlib.pyplot.plot(*args, scalex=True, scaley=True, data=None, **kwargs)>"
      ]
     },
     "execution_count": 54,
     "metadata": {},
     "output_type": "execute_result"
    }
   ],
   "source": [
    "plt.plot"
   ]
  },
  {
   "cell_type": "code",
   "execution_count": null,
   "id": "78e317bb",
   "metadata": {},
   "outputs": [],
   "source": []
  },
  {
   "cell_type": "code",
   "execution_count": null,
   "id": "7c944e52",
   "metadata": {},
   "outputs": [],
   "source": []
  }
 ],
 "metadata": {
  "kernelspec": {
   "display_name": "Python 3 (ipykernel)",
   "language": "python",
   "name": "python3"
  },
  "language_info": {
   "codemirror_mode": {
    "name": "ipython",
    "version": 3
   },
   "file_extension": ".py",
   "mimetype": "text/x-python",
   "name": "python",
   "nbconvert_exporter": "python",
   "pygments_lexer": "ipython3",
   "version": "3.9.13"
  }
 },
 "nbformat": 4,
 "nbformat_minor": 5
}
